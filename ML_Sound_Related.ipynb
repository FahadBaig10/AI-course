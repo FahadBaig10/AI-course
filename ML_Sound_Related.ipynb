{
 "cells": [
  {
   "cell_type": "code",
   "execution_count": 8,
   "id": "pleasant-diagram",
   "metadata": {},
   "outputs": [],
   "source": [
    "from sklearn.svm import SVC\n",
    "import spacy\n",
    "import glob\n",
    "import os\n",
    "import numpy as np\n",
    "import matplotlib.pyplot as plt\n",
    "import soundfile as sf\n",
    "import librosa\n",
    "from matplotlib.pyplot import specgram\n",
    "\n",
    "test_angry=[]\n",
    "test_happy=[]\n",
    "test_neutral=[]\n",
    "test_sad=[]\n",
    "train_angry=[]\n",
    "train_happy=[]\n",
    "train_neutral=[]\n",
    "train_sad=[]\n",
    "label_train=[]\n",
    "label_test=[]"
   ]
  },
  {
   "cell_type": "code",
   "execution_count": 9,
   "id": "sufficient-thickness",
   "metadata": {},
   "outputs": [
    {
     "name": "stderr",
     "output_type": "stream",
     "text": [
      "c:\\users\\fahad\\lib\\site-packages\\librosa\\core\\spectrum.py:222: UserWarning: n_fft=1024 is too small for input signal of length=690\n",
      "  warnings.warn(\n",
      "c:\\users\\fahad\\lib\\site-packages\\librosa\\core\\spectrum.py:222: UserWarning: n_fft=1024 is too small for input signal of length=684\n",
      "  warnings.warn(\n",
      "c:\\users\\fahad\\lib\\site-packages\\librosa\\core\\spectrum.py:222: UserWarning: n_fft=1024 is too small for input signal of length=342\n",
      "  warnings.warn(\n"
     ]
    }
   ],
   "source": [
    "################## Feature_Extraction ##########################\n",
    "\n",
    "\n",
    "################## Test_angry ################\n",
    "for file in glob.glob('SERDataset/Test/Angry/*'):\n",
    "    y,sr=sf.read(file)\n",
    "    m=np.mean(librosa.feature.mfcc(y=y,sr=sr,n_mfcc=47).T,axis=0)\n",
    "    melspect=np.mean(librosa.feature.melspectrogram(y=y,sr=sr).T,axis=0)\n",
    "    t=np.mean(librosa.feature.tonnetz(y=y,sr=sr).T,axis=0)\n",
    "    stack=np.hstack((m,t,melspect))\n",
    "    test_angry.append(stack)\n",
    "    label_test.append('Angry')\n",
    "\n",
    "############### Train_angry #################    \n",
    "for file in glob.glob('SERDataset/Train/Angry/*'):\n",
    "    y,sr=sf.read(file)\n",
    "    m=np.mean(librosa.feature.mfcc(y=y,sr=sr,n_mfcc=47).T,axis=0) \n",
    "    melspect=np.mean(librosa.feature.melspectrogram(y=y,sr=sr).T,axis=0)\n",
    "    t=np.mean(librosa.feature.tonnetz(y=y,sr=sr).T,axis=0)\n",
    "    stack=np.hstack((m,t,melspect))\n",
    "    train_angry.append(stack)\n",
    "    label_train.append('Angry')    \n",
    "    \n",
    "############# Test_happy ####################    \n",
    "for file in glob.glob('SERDataset/Test/Happy/*'):\n",
    "    y,sr=sf.read(file)\n",
    "    m=np.mean(librosa.feature.mfcc(y=y,sr=sr,n_mfcc=47).T,axis=0)\n",
    "    melspect=np.mean(librosa.feature.melspectrogram(y=y,sr=sr).T,axis=0)\n",
    "    t=np.mean(librosa.feature.tonnetz(y=y,sr=sr).T,axis=0)\n",
    "    stack=np.hstack((m,t,melspect))\n",
    "    test_happy.append(stack)\n",
    "    label_test.append('Happy')\n",
    "    \n",
    "############# Train_happy #######################    \n",
    "for file in glob.glob('SERDataset/Train/Happy/*'):\n",
    "    y,sr=sf.read(file)\n",
    "    m=np.mean(librosa.feature.mfcc(y=y,sr=sr,n_mfcc=47).T,axis=0)\n",
    "    melspect=np.mean(librosa.feature.melspectrogram(y=y,sr=sr).T,axis=0)\n",
    "    t=np.mean(librosa.feature.tonnetz(y=y,sr=sr).T,axis=0)\n",
    "    stack=np.hstack((m,t,melspect))\n",
    "    train_happy.append(stack)\n",
    "    label_train.append('Happy')\n",
    "    \n",
    "############# Test_neutral ####################\n",
    "for file in glob.glob('SERDataset/Test/Neural/*'):\n",
    "    y,sr=sf.read(file)\n",
    "    m=np.mean(librosa.feature.mfcc(y=y,sr=sr,n_mfcc=47).T,axis=0)\n",
    "    melspect=np.mean(librosa.feature.melspectrogram(y=y,sr=sr).T,axis=0)\n",
    "    t=np.mean(librosa.feature.tonnetz(y=y,sr=sr).T,axis=0)\n",
    "    stack=np.hstack((m,t,melspect))\n",
    "    test_neutral.append(stack)\n",
    "    label_test.append('Neutral') \n",
    "    \n",
    "############# Train_neutral #################  \n",
    "for file in glob.glob('SERDataset/Train/Neutral/*'):\n",
    "    y,sr=sf.read(file)\n",
    "    m=np.mean(librosa.feature.mfcc(y=y,sr=sr,n_mfcc=47).T,axis=0)\n",
    "    melspect=np.mean(librosa.feature.melspectrogram(y=y,sr=sr).T,axis=0)\n",
    "    t=np.mean(librosa.feature.tonnetz(y=y,sr=sr).T,axis=0)\n",
    "    stack=np.hstack((m,t,melspect))\n",
    "    train_neutral.append(stack)\n",
    "    label_train.append('Neutral')\n",
    "    \n",
    "########### Test_sad ######################    \n",
    "for file in glob.glob('SERDataset/Test/Sad/*'):\n",
    "    y,sr=sf.read(file)\n",
    "    m=np.mean(librosa.feature.mfcc(y=y,sr=sr,n_mfcc=47).T,axis=0)   \n",
    "    melspect=np.mean(librosa.feature.melspectrogram(y=y,sr=sr).T,axis=0)\n",
    "    t=np.mean(librosa.feature.tonnetz(y=y,sr=sr).T,axis=0)\n",
    "    stack=np.hstack((m,t,melspect))\n",
    "    test_sad.append(stack)    \n",
    "    label_test.append('Sad')    \n",
    "    \n",
    "########## Train_sad #################\n",
    "for file in glob.glob('SERDataset/Train/Sad/*'):\n",
    "    y,sr=sf.read(file)\n",
    "    m=np.mean(librosa.feature.mfcc(y=y,sr=sr,n_mfcc=47).T,axis=0)\n",
    "    melspect=np.mean(librosa.feature.melspectrogram(y=y,sr=sr).T,axis=0)\n",
    "    t=np.mean(librosa.feature.tonnetz(y=y,sr=sr).T,axis=0)\n",
    "    stack=np.hstack((m,t,melspect))\n",
    "    train_sad.append(stack)\n",
    "    label_train.append('Sad')    "
   ]
  },
  {
   "cell_type": "code",
   "execution_count": 10,
   "id": "floral-twist",
   "metadata": {},
   "outputs": [
    {
     "name": "stdout",
     "output_type": "stream",
     "text": [
      "mfcc\n",
      "melspectrogram\n",
      "tonnetz\n"
     ]
    }
   ],
   "source": [
    "print('mfcc')\n",
    "print('melspectrogram')\n",
    "print('tonnetz')"
   ]
  },
  {
   "cell_type": "code",
   "execution_count": 15,
   "id": "anticipated-china",
   "metadata": {},
   "outputs": [
    {
     "data": {
      "text/plain": [
       "SVC(C=10000000000.0, kernel='linear')"
      ]
     },
     "execution_count": 15,
     "metadata": {},
     "output_type": "execute_result"
    }
   ],
   "source": [
    "list_test=[]\n",
    "list_train=[]\n",
    "\n",
    "############## appending labels to test_list ############\n",
    "\n",
    "for angry in test_angry:\n",
    "    list_test.append(angry)\n",
    "    \n",
    "for happy in test_happy:\n",
    "    list_test.append(happy)\n",
    "    \n",
    "for neutral in test_neutral:\n",
    "    list_test.append(neutral)\n",
    "    \n",
    "for sad in test_sad:\n",
    "    list_test.append(sad)\n",
    "    \n",
    "############# appending labels to train_list ############\n",
    "\n",
    "for angry1 in train_angry:\n",
    "    list_train.append(angry1)\n",
    "\n",
    "for happy1 in train_happy:\n",
    "    list_train.append(happy1)\n",
    "        \n",
    "for neutral1 in train_neutral:\n",
    "    list_train.append(neutral1)    \n",
    "\n",
    "for sad1 in train_sad:\n",
    "    list_train.append(sad1)\n",
    "    \n",
    "############ Appending for plot and dividing into x and y coordinates of list of test ###########\n",
    "left=[]\n",
    "right=[]\n",
    "\n",
    "for i in list_test:\n",
    "    m=i.shape[0]\n",
    "    m=m//2\n",
    "    left.append(np.mean(i[:m]))        \n",
    "    right.append(np.mean(i[m:])) \n",
    "\n",
    "########### Appending for plot and dividing into x and y coordinates of list of train #########\n",
    "\n",
    "for i in list_train:\n",
    "    m=i.shape[0]\n",
    "    m=m//2\n",
    "    left.append(np.mean(i[:m]))        \n",
    "    right.append(np.mean(i[m:]))    \n",
    "    \n",
    "#################### Add_labels_func #################\n",
    "\n",
    "labels=[]\n",
    "labels=label_test+label_train\n",
    "\n",
    "########### SVC Classifier and model.fit #############\n",
    "\n",
    "model = SVC(kernel='linear', C=1E10)\n",
    "model.fit(list_train,label_train)"
   ]
  },
  {
   "cell_type": "code",
   "execution_count": 16,
   "id": "backed-hanging",
   "metadata": {},
   "outputs": [
    {
     "data": {
      "text/plain": [
       "<AxesSubplot:xlabel='x axis', ylabel='y axis'>"
      ]
     },
     "execution_count": 16,
     "metadata": {},
     "output_type": "execute_result"
    },
    {
     "data": {
      "image/png": "[encoded data removed]",
      "text/plain": [
       "<Figure size 432x288 with 1 Axes>"
      ]
     },
     "metadata": {
      "needs_background": "light"
     },
     "output_type": "display_data"
    }
   ],
   "source": [
    "################# Plotting ########################\n",
    "\n",
    "import pandas as pd\n",
    "import seaborn as sns\n",
    "df=pd.DataFrame(left,columns=['x axis'])\n",
    "df['y axis']=right\n",
    "sns.scatterplot(data=df,x='x axis',y='y axis', hue=labels, palette=['C3','C2','C0','C1'])"
   ]
  },
  {
   "cell_type": "code",
   "execution_count": 17,
   "id": "objective-negative",
   "metadata": {},
   "outputs": [
    {
     "data": {
      "text/plain": [
       "1.0"
      ]
     },
     "execution_count": 17,
     "metadata": {},
     "output_type": "execute_result"
    }
   ],
   "source": [
    "########## Checking Accuracy ##########\n",
    "\n",
    "from sklearn.metrics import accuracy_score\n",
    "YModel=model.predict(list_test)\n",
    "accuracy_score(label_test,YModel)"
   ]
  },
  {
   "cell_type": "code",
   "execution_count": 18,
   "id": "therapeutic-tyler",
   "metadata": {},
   "outputs": [
    {
     "data": {
      "text/plain": [
       "'Sad'"
      ]
     },
     "execution_count": 18,
     "metadata": {},
     "output_type": "execute_result"
    }
   ],
   "source": [
    "########## Wav file ############ \n",
    "\n",
    "file='SERDataset/Test/Sad/SM25_F34_S084.wav'\n",
    "y,sr=sf.read(file)\n",
    "m=np.mean(librosa.feature.mfcc(y=y,sr=sr,n_mfcc=47).T,axis=0)\n",
    "melspect=np.mean(librosa.feature.melspectrogram(y=y,sr=sr).T,axis=0)\n",
    "t=np.mean(librosa.feature.tonnetz(y=y,sr=sr).T,axis=0)\n",
    "stack=np.hstack((m,t,melspect))\n",
    "\n",
    "res=model.predict(stack.reshape([1,-1]))\n",
    "res[0]"
   ]
  },
  {
   "cell_type": "code",
   "execution_count": 1,
   "id": "entertaining-worthy",
   "metadata": {},
   "outputs": [
    {
     "name": "stdout",
     "output_type": "stream",
     "text": [
      "desktop-e9qhflv\\fahad\n"
     ]
    }
   ],
   "source": [
    "!whoami"
   ]
  },
  {
   "cell_type": "code",
   "execution_count": null,
   "id": "exterior-appeal",
   "metadata": {},
   "outputs": [],
   "source": []
  }
 ],
 "metadata": {
  "kernelspec": {
   "display_name": "Python 3",
   "language": "python",
   "name": "python3"
  },
  "language_info": {
   "codemirror_mode": {
    "name": "ipython",
    "version": 3
   },
   "file_extension": ".py",
   "mimetype": "text/x-python",
   "name": "python",
   "nbconvert_exporter": "python",
   "pygments_lexer": "ipython3",
   "version": "3.9.1"
  }
 },
 "nbformat": 4,
 "nbformat_minor": 5
}
