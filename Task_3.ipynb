{
 "cells": [
  {
   "cell_type": "markdown",
   "metadata": {},
   "source": [
    "# Topics:\n",
    "### Iterables\n",
    "### List Comprehension \n",
    "### Set Comprehension \n",
    "### Dictionary Comprehension\n",
    "### Generator Expressions\n",
    "### Zip Operation for synchronization"
   ]
  },
  {
   "cell_type": "markdown",
   "metadata": {},
   "source": [
    "### Submission Guidelines/Checklist:\n",
    "<ol>\n",
    "    <li>Write Your Name and Roll Number in the cells below</li>\n",
    "    <li>Rename your Notebook as: YourName_RollNumber (Lab-5)</li>\n",
    "    <li> The Submission time is to be strictly followed as lab end time after which 20% Marks reduction over every 5 mins\n",
    "</ol>"
   ]
  },
  {
   "cell_type": "markdown",
   "metadata": {},
   "source": [
    "# Name: Fahad Baig\n",
    "# Roll Number: 19I1883"
   ]
  },
  {
   "cell_type": "markdown",
   "metadata": {},
   "source": [
    "# ---------------------------------Tasks Section---------------------------------"
   ]
  },
  {
   "cell_type": "markdown",
   "metadata": {},
   "source": [
    "# There are 5 tasks in total\n",
    "### If you feel lost and don't know how to solve some task go to the slides that were shared for this week."
   ]
  },
  {
   "cell_type": "markdown",
   "metadata": {},
   "source": [
    "# Task-1\n",
    "#### 1- Add your Full Name and roll number as the first entry in the dictionary given below\n",
    "#### 2-  Then Invert the dictionary using dictionary comprehension so that we are able the search the dictionary by roll numbers as the keys.\n",
    "#### 3-Search the dictionary by your roll number\n",
    "##### Hint: All of these concepts are there in the slides"
   ]
  },
  {
   "cell_type": "code",
   "execution_count": 14,
   "metadata": {},
   "outputs": [],
   "source": [
    "name_to_rollNumber = {\n",
    "                      'Fahad Baig':'19I-1883',\n",
    "                      'Aliza Adnan':'19I-1654',\n",
    "                      'Asfand Irfan':'19I-1656',\n",
    "                      'Ali Murtaza':'19I-1665',\n",
    "                      'Talha Ali':'19I-1681',\n",
    "                      'Ramsha Kamran':'19I-1900',\n",
    "                      'Moiz Gohar':'19I-1906'\n",
    "                     }"
   ]
  },
  {
   "cell_type": "code",
   "execution_count": 17,
   "metadata": {},
   "outputs": [
    {
     "name": "stdout",
     "output_type": "stream",
     "text": [
      "{'19I-1654': 'Aliza Adnan',\n",
      " '19I-1656': 'Asfand Irfan',\n",
      " '19I-1665': 'Ali Murtaza',\n",
      " '19I-1681': 'Talha Ali',\n",
      " '19I-1883': 'Fahad Baig',\n",
      " '19I-1900': 'Ramsha Kamran',\n",
      " '19I-1906': 'Moiz Gohar'}\n"
     ]
    }
   ],
   "source": [
    "# Code Here (Dictionary Inversion Logic)\n",
    "rollNumber_to_name={rollNumber: name for name, rollNumber in name_to_rollNumber.items()}\n",
    "from pprint import pprint as pp\n",
    "pp(rollNumber_to_name)\n"
   ]
  },
  {
   "cell_type": "code",
   "execution_count": 19,
   "metadata": {},
   "outputs": [
    {
     "name": "stdout",
     "output_type": "stream",
     "text": [
      "Fahad Baig\n"
     ]
    }
   ],
   "source": [
    "# Code Here (Search the dictionary by giving it your roll number as the key the output should be your name)\n",
    "a='19I-1883'\n",
    "        \n",
    "if a in rollNumber_to_name:\n",
    "    print(rollNumber_to_name[a])"
   ]
  },
  {
   "cell_type": "markdown",
   "metadata": {},
   "source": [
    "# Task-2\n",
    "## Filtering Comprehensions using custom function\n",
    "<ol>\n",
    "    <li>Write a function is_prime that takes in a number and return true if the number is prime and false otherwise</li>\n",
    "    <li>Now use the function is_prime as the filtering function of the list comprehension to return all the prime numbers less then 100\n",
    "\n",
    "</ol>\n",
    "Hint: you can use x in range(101) to generate the numbers from 0 to 100"
   ]
  },
  {
   "cell_type": "code",
   "execution_count": 26,
   "metadata": {},
   "outputs": [
    {
     "data": {
      "text/plain": [
       "[3,\n",
       " 5,\n",
       " 7,\n",
       " 9,\n",
       " 11,\n",
       " 13,\n",
       " 15,\n",
       " 17,\n",
       " 19,\n",
       " 21,\n",
       " 23,\n",
       " 25,\n",
       " 27,\n",
       " 29,\n",
       " 31,\n",
       " 33,\n",
       " 35,\n",
       " 37,\n",
       " 39,\n",
       " 41,\n",
       " 43,\n",
       " 45,\n",
       " 47,\n",
       " 49,\n",
       " 51,\n",
       " 53,\n",
       " 55,\n",
       " 57,\n",
       " 59,\n",
       " 61,\n",
       " 63,\n",
       " 65,\n",
       " 67,\n",
       " 69,\n",
       " 71,\n",
       " 73,\n",
       " 75,\n",
       " 77,\n",
       " 79,\n",
       " 81,\n",
       " 83,\n",
       " 85,\n",
       " 87,\n",
       " 89,\n",
       " 91,\n",
       " 93,\n",
       " 95,\n",
       " 97,\n",
       " 99]"
      ]
     },
     "execution_count": 26,
     "metadata": {},
     "output_type": "execute_result"
    }
   ],
   "source": [
    "# Code Here\n",
    "def is_prime(x):\n",
    "\n",
    "\n",
    "    if x > 1:\n",
    "    \n",
    "        for i in range(2, x):\n",
    "            if (x % i) == 0:\n",
    "            \n",
    "                return False\n",
    "            else:\n",
    "                return True\n",
    "\n",
    "\n",
    "[i for i in range(1,101) if is_prime(i)]\n",
    "    \n",
    "    "
   ]
  },
  {
   "cell_type": "markdown",
   "metadata": {},
   "source": [
    "# Task-3 & 4\n",
    "## Generator Expressions VS List Comprehension\n",
    "### 3-i: Compute the mean of first one million squares using generator expression. \n",
    "### 3-ii: Show execution time for generator expression.\n",
    "### 3-iii: Show memory consumption for generator expression.\n",
    "### 4-i: Compute the mean of first one million squares using list comprehension. \n",
    "### 4-ii: Show execution time for list comprehension.\n",
    "### 4-iii: Show memory consumption for list comprehension.\n",
    "### Hint: Generate the sum using generator expression. Generate the divisor using generator expression as well eg. gen_exp/gen_exp\n",
    "##### Expalanation: Iterating over the generator expression or the list comprehension will do the same thing. However, the list comprehension will create the entire list in memory first while the generator expression will create the items on the fly, so you are able to use it for very large (and also infinite!) sequences. You can run the following to commands in the notebook to see the time difference yourself. The first one is using list comprehension and the second one utilizes generator expression:\n",
    "```python\n",
    "%timeit [sum(x*2 for x in range(1,10000001))]\n",
    "%timeit (sum(x*2 for x in range(1,10000001)))\n",
    "%load_ext memory_profiler\n",
    "%memit sum([x*x*x for x in range(1,10000001)])\n",
    "%memit sum(x*x*x for x in range(1,10000001))\n",
    "```\n",
    "##### You will notice that list comprehension takes 13 times more memory and time as compared to generator expressions due to generator's lazy execution"
   ]
  },
  {
   "cell_type": "code",
   "execution_count": 40,
   "metadata": {},
   "outputs": [
    {
     "data": {
      "text/plain": [
       "333333500000.0"
      ]
     },
     "execution_count": 40,
     "metadata": {},
     "output_type": "execute_result"
    }
   ],
   "source": [
    "# 3-i:Compute the mean of first one million squares using generator expression.\n",
    "\n",
    "\n",
    "million_squares=sum(x*x for x in range(0,1000001))/1000001\n",
    "million_squares\n"
   ]
  },
  {
   "cell_type": "code",
   "execution_count": 41,
   "metadata": {},
   "outputs": [
    {
     "name": "stdout",
     "output_type": "stream",
     "text": [
      "163 ms ± 1.15 ms per loop (mean ± std. dev. of 7 runs, 10 loops each)\n"
     ]
    }
   ],
   "source": [
    "# 3-ii: Show execution time for generator expression.\n",
    "%timeit sum(x*x for x in range(0,1000001))/1000001"
   ]
  },
  {
   "cell_type": "code",
   "execution_count": 44,
   "metadata": {},
   "outputs": [
    {
     "name": "stdout",
     "output_type": "stream",
     "text": [
      "Requirement already up-to-date: memory_profiler in c:\\users\\fahad\\lib\\site-packages (0.58.0)\n",
      "Requirement already satisfied, skipping upgrade: psutil in c:\\users\\fahad\\lib\\site-packages (from memory_profiler) (5.8.0)\n"
     ]
    },
    {
     "name": "stderr",
     "output_type": "stream",
     "text": [
      "WARNING: You are using pip version 20.2.3; however, version 21.0.1 is available.\n",
      "You should consider upgrading via the 'c:\\users\\fahad\\python.exe -m pip install --upgrade pip' command.\n",
      "UsageError: Line magic function `%memit` not found.\n"
     ]
    }
   ],
   "source": [
    "# 3-iii: Show memory consumption for generator expression.\n",
    "import sys\n",
    "!{sys.executable} -m pip install -U memory_profiler\n",
    "%memit sum(x*x for x in range(0,1000001))/1000001"
   ]
  },
  {
   "cell_type": "code",
   "execution_count": 45,
   "metadata": {},
   "outputs": [
    {
     "data": {
      "text/plain": [
       "333333500000.0"
      ]
     },
     "execution_count": 45,
     "metadata": {},
     "output_type": "execute_result"
    }
   ],
   "source": [
    "# 4-i: Compute the mean of first one million squares using list comprehension.\n",
    "million_squares=sum([x*x for x in range(0,1000001)])/1000001\n",
    "million_squares"
   ]
  },
  {
   "cell_type": "code",
   "execution_count": 48,
   "metadata": {},
   "outputs": [
    {
     "name": "stdout",
     "output_type": "stream",
     "text": [
      "160 ms ± 1.4 ms per loop (mean ± std. dev. of 7 runs, 10 loops each)\n"
     ]
    }
   ],
   "source": [
    "# 4-ii: Show execution time for list comprehension.\n",
    "%timeit [sum(x*x for x in range(0,1000001))]"
   ]
  },
  {
   "cell_type": "code",
   "execution_count": 49,
   "metadata": {},
   "outputs": [
    {
     "name": "stderr",
     "output_type": "stream",
     "text": [
      "UsageError: Line magic function `%memit` not found.\n"
     ]
    }
   ],
   "source": [
    "# 4-iii: Show memory consumption for list comprehension.\n",
    "%memit sum([x*X for x in range(1,1000001)])\n",
    " "
   ]
  },
  {
   "cell_type": "markdown",
   "metadata": {},
   "source": [
    "# Task-5"
   ]
  },
  {
   "cell_type": "markdown",
   "metadata": {},
   "source": [
    "## 5-A\n",
    "### Return first 1000 prime numbers in a list named First_Thousand_Prime_numbers\n",
    "\n",
    "##### The problem is much harder as it first appears beacaue if we try to solve the problem using range function e.g range(1001) it will return us first 1000 integers out out of which not all are prime numbers.\n",
    "##### We need some sort of open ended mechanism i.e. unbounded arithementic sequence of integers that can keep on giving us the numbers until our condition is met.\n",
    "### Hint: Use Generator Expression along with count, islice and use the function is_prime that you created in task 2 as the conditional predicate in the generator expression (If still confused go through the slides)."
   ]
  },
  {
   "cell_type": "code",
   "execution_count": 50,
   "metadata": {},
   "outputs": [
    {
     "name": "stdout",
     "output_type": "stream",
     "text": [
      "1005\n",
      "2 3 5 7 11 13 17 19 23 29 31 37 41 43 47 53 59 61 67 71 73 79 83 89 97 101 103 107 109 113 127 131 137 139 149 151 157 163 167 173 179 181 191 193 197 199 211 223 227 229 233 239 241 251 257 263 269 271 277 281 283 293 307 311 313 317 331 337 347 349 353 359 367 373 379 383 389 397 401 409 419 421 431 433 439 443 449 457 461 463 467 479 487 491 499 503 509 521 523 541 547 557 563 569 571 577 587 593 599 601 607 613 617 619 631 641 643 647 653 659 661 673 677 683 691 701 709 719 727 733 739 743 751 757 761 769 773 787 797 809 811 821 823 827 829 839 853 857 859 863 877 881 883 887 907 911 919 929 937 941 947 953 967 971 977 983 991 997 1009 1013 1019 1021 1031 1033 1039 1049 1051 1061 1063 1069 1087 1091 1093 1097 1103 1109 1117 1123 1129 1151 1153 1163 1171 1181 1187 1193 1201 1213 1217 1223 1229 1231 1237 1249 1259 1277 1279 1283 1289 1291 1297 1301 1303 1307 1319 1321 1327 1361 1367 1373 1381 1399 1409 1423 1427 1429 1433 1439 1447 1451 1453 1459 1471 1481 1483 1487 1489 1493 1499 1511 1523 1531 1543 1549 1553 1559 1567 1571 1579 1583 1597 1601 1607 1609 1613 1619 1621 1627 1637 1657 1663 1667 1669 1693 1697 1699 1709 1721 1723 1733 1741 1747 1753 1759 1777 1783 1787 1789 1801 1811 1823 1831 1847 1861 1867 1871 1873 1877 1879 1889 1901 1907 1913 1931 1933 1949 1951 1973 1979 1987 1993 1997 1999 2003 2011 2017 2027 2029 2039 2053 2063 2069 2081 2083 2087 2089 2099 2111 2113 2129 2131 2137 2141 2143 2153 2161 2179 2203 2207 2213 2221 2237 2239 2243 2251 2267 2269 2273 2281 2287 2293 2297 2309 2311 2333 2339 2341 2347 2351 2357 2371 2377 2381 2383 2389 2393 2399 2411 2417 2423 2437 2441 2447 2459 2467 2473 2477 2503 2521 2531 2539 2543 2549 2551 2557 2579 2591 2593 2609 2617 2621 2633 2647 2657 2659 2663 2671 2677 2683 2687 2689 2693 2699 2707 2711 2713 2719 2729 2731 2741 2749 2753 2767 2777 2789 2791 2797 2801 2803 2819 2833 2837 2843 2851 2857 2861 2879 2887 2897 2903 2909 2917 2927 2939 2953 2957 2963 2969 2971 2999 3001 3011 3019 3023 3037 3041 3049 3061 3067 3079 3083 3089 3109 3119 3121 3137 3163 3167 3169 3181 3187 3191 3203 3209 3217 3221 3229 3251 3253 3257 3259 3271 3299 3301 3307 3313 3319 3323 3329 3331 3343 3347 3359 3361 3371 3373 3389 3391 3407 3413 3433 3449 3457 3461 3463 3467 3469 3491 3499 3511 3517 3527 3529 3533 3539 3541 3547 3557 3559 3571 3581 3583 3593 3607 3613 3617 3623 3631 3637 3643 3659 3671 3673 3677 3691 3697 3701 3709 3719 3727 3733 3739 3761 3767 3769 3779 3793 3797 3803 3821 3823 3833 3847 3851 3853 3863 3877 3881 3889 3907 3911 3917 3919 3923 3929 3931 3943 3947 3967 3989 4001 4003 4007 4013 4019 4021 4027 4049 4051 4057 4073 4079 4091 4093 4099 4111 4127 4129 4133 4139 4153 4157 4159 4177 4201 4211 4217 4219 4229 4231 4241 4243 4253 4259 4261 4271 4273 4283 4289 4297 4327 4337 4339 4349 4357 4363 4373 4391 4397 4409 4421 4423 4441 4447 4451 4457 4463 4481 4483 4493 4507 4513 4517 4519 4523 4547 4549 4561 4567 4583 4591 4597 4603 4621 4637 4639 4643 4649 4651 4657 4663 4673 4679 4691 4703 4721 4723 4729 4733 4751 4759 4783 4787 4789 4793 4799 4801 4813 4817 4831 4861 4871 4877 4889 4903 4909 4919 4931 4933 4937 4943 4951 4957 4967 4969 4973 4987 4993 4999 5003 5009 5011 5021 5023 5039 5051 5059 5077 5081 5087 5099 5101 5107 5113 5119 5147 5153 5167 5171 5179 5189 5197 5209 5227 5231 5233 5237 5261 5273 5279 5281 5297 5303 5309 5323 5333 5347 5351 5381 5387 5393 5399 5407 5413 5417 5419 5431 5437 5441 5443 5449 5471 5477 5479 5483 5501 5503 5507 5519 5521 5527 5531 5557 5563 5569 5573 5581 5591 5623 5639 5641 5647 5651 5653 5657 5659 5669 5683 5689 5693 5701 5711 5717 5737 5741 5743 5749 5779 5783 5791 5801 5807 5813 5821 5827 5839 5843 5849 5851 5857 5861 5867 5869 5879 5881 5897 5903 5923 5927 5939 5953 5981 5987 6007 6011 6029 6037 6043 6047 6053 6067 6073 6079 6089 6091 6101 6113 6121 6131 6133 6143 6151 6163 6173 6197 6199 6203 6211 6217 6221 6229 6247 6257 6263 6269 6271 6277 6287 6299 6301 6311 6317 6323 6329 6337 6343 6353 6359 6361 6367 6373 6379 6389 6397 6421 6427 6449 6451 6469 6473 6481 6491 6521 6529 6547 6551 6553 6563 6569 6571 6577 6581 6599 6607 6619 6637 6653 6659 6661 6673 6679 6689 6691 6701 6703 6709 6719 6733 6737 6761 6763 6779 6781 6791 6793 6803 6823 6827 6829 6833 6841 6857 6863 6869 6871 6883 6899 6907 6911 6917 6947 6949 6959 6961 6967 6971 6977 6983 6991 6997 7001 7013 7019 7027 7039 7043 7057 7069 7079 7103 7109 7121 7127 7129 7151 7159 7177 7187 7193 7207 7211 7213 7219 7229 7237 7243 7247 7253 7283 7297 7307 7309 7321 7331 7333 7349 7351 7369 7393 7411 7417 7433 7451 7457 7459 7477 7481 7487 7489 7499 7507 7517 7523 7529 7537 7541 7547 7549 7559 7561 7573 7577 7583 7589 7591 7603 7607 7621 7639 7643 7649 7669 7673 7681 7687 7691 7699 7703 7717 7723 7727 7741 7753 7757 7759 7789 7793 7817 7823 7829 7841 7853 7867 7873 7877 7879 7883 7901 7907 7919 7927 7933 7937 7949 7951\n"
     ]
    }
   ],
   "source": [
    "# Code here\n",
    "# import something if you need to\n",
    "# create <itertools.islice at 0x7fbdac3a69b0> obeject\n",
    "# Force execution of this generator to get the final list \"First_Thousand_Prime_numbers\"\n",
    "# Print len of this list\n",
    "# Print the list itself [2,3,5,7,11, ..., 1000th prime number]\n",
    "def gen_primes():\n",
    "    D = {}\n",
    "    q = 2\n",
    "  \n",
    "    while True:\n",
    "        if q not in D:\n",
    "            yield q\n",
    "            D[q * q] = [q]\n",
    "        else:\n",
    "            for p in D[q]:\n",
    "                D.setdefault(p + q, []).append(p)\n",
    "            del D[q]\n",
    "        q += 1\n",
    "        if len(D) == 1000:\n",
    "            break\n",
    "    return D\n",
    "prime = list(gen_primes())\n",
    "print(len(prime))\n",
    "print(*prime)"
   ]
  },
  {
   "cell_type": "markdown",
   "metadata": {},
   "source": [
    "## 5-B\n",
    "### Return the sum of first 1000 Prime numbers using generator expression (The one you created in 5-A)\n",
    "### Output: 3682913"
   ]
  },
  {
   "cell_type": "code",
   "execution_count": 51,
   "metadata": {},
   "outputs": [
    {
     "name": "stdout",
     "output_type": "stream",
     "text": [
      "3682913\n"
     ]
    }
   ],
   "source": [
    "# Code here\n",
    "def gen_primes():\n",
    "    D = {}\n",
    "    q = 2\n",
    "  \n",
    "    while True:\n",
    "        if q not in D:\n",
    "            yield q\n",
    "            D[q * q] = [q]\n",
    "        else:\n",
    "            for p in D[q]:\n",
    "                D.setdefault(p + q, []).append(p)\n",
    "            del D[q]\n",
    "        q += 1\n",
    "        if len(D) == 1000:\n",
    "            break\n",
    "    return D\n",
    "prime = list(gen_primes())\n",
    "print(sum(prime[:1000]))"
   ]
  },
  {
   "cell_type": "markdown",
   "metadata": {},
   "source": [
    "# 5-C"
   ]
  },
  {
   "cell_type": "markdown",
   "metadata": {},
   "source": [
    "### You are given 12 hour temperatures for one week. It required to zip all the days into a variable 'week' \n",
    "### Now iterate over 'week' and calculate the average temperature for each hour across the week.\n",
    "### Output:\n",
    "``` Python\n",
    "Average temperature: 13.857142857142858\n",
    "Average temperature: 14.0\n",
    "Average temperature: 14.571428571428571\n",
    "Average temperature: 14.857142857142858\n",
    "Average temperature: 16.571428571428573\n",
    "Average temperature: 20.142857142857142\n",
    "Average temperature: 19.142857142857142\n",
    "Average temperature: 21.571428571428573\n",
    "Average temperature: 21.571428571428573\n",
    "Average temperature: 21.571428571428573\n",
    "Average temperature: 19.571428571428573\n",
    "Average temperature: 16.428571428571427\n",
    "```"
   ]
  },
  {
   "cell_type": "code",
   "execution_count": 54,
   "metadata": {},
   "outputs": [],
   "source": [
    "sunday = [12, 14, 15, 15, 17, 21, 22, 22, 23, 22, 20, 18]\n",
    "monday = [13, 14, 14, 14, 16, 20, 21, 22, 22, 21, 19, 17]\n",
    "tuesday = [11, 14, 15, 15, 17, 21, 13, 22, 16, 22, 20, 18]\n",
    "wednesday = [17, 14, 14, 14, 16, 20, 21, 22, 22, 21, 19, 14]\n",
    "thursday = [13, 14, 15, 17, 17, 21, 22, 19, 23, 22, 20, 18]\n",
    "friday = [15, 14, 14, 14, 16, 20, 21, 22, 22, 21, 19, 17]\n",
    "saturday = [16, 14, 15, 15, 17, 18, 14, 22, 23, 22, 20, 13]\n"
   ]
  },
  {
   "cell_type": "code",
   "execution_count": 55,
   "metadata": {},
   "outputs": [
    {
     "name": "stdout",
     "output_type": "stream",
     "text": [
      "Average temp : 0.0\n",
      "Average temp : 1.0\n",
      "Average temp : 2.0\n",
      "Average temp : 3.0\n",
      "Average temp : 4.0\n",
      "Average temp : 5.0\n",
      "Average temp : 6.0\n",
      "Average temp : 7.0\n",
      "Average temp : 8.0\n",
      "Average temp : 9.0\n",
      "Average temp : 10.0\n",
      "Average temp : 11.0\n"
     ]
    }
   ],
   "source": [
    "# Code Here\n",
    "sunday = list(range(12))\n",
    "monday = list(range(12))\n",
    "tuesday = list(range(12))\n",
    "wednessday = list(range(12))\n",
    "thursday = list(range(12))\n",
    "friday = list(range(12))\n",
    "saturday = list(range(12))\n",
    "for s,m,tu,w,th,f,sa in zip(sunday,monday,tuesday,wednessday,thursday,friday,saturday):\n",
    "    print('Average temp :',(s+m+tu+w+th+f+sa)/7)"
   ]
  },
  {
   "cell_type": "code",
   "execution_count": null,
   "metadata": {},
   "outputs": [],
   "source": []
  }
 ],
 "metadata": {
  "kernelspec": {
   "display_name": "Python 3",
   "language": "python",
   "name": "python3"
  },
  "language_info": {
   "codemirror_mode": {
    "name": "ipython",
    "version": 3
   },
   "file_extension": ".py",
   "mimetype": "text/x-python",
   "name": "python",
   "nbconvert_exporter": "python",
   "pygments_lexer": "ipython3",
   "version": "3.9.1"
  }
 },
 "nbformat": 4,
 "nbformat_minor": 4
}
