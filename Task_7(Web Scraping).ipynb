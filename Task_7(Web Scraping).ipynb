{
 "cells": [
  {
   "cell_type": "markdown",
   "metadata": {},
   "source": [
    "# Programming for AI Lab 9 (Web Scraping)"
   ]
  },
  {
   "cell_type": "markdown",
   "metadata": {},
   "source": [
    "#### Rename the file with your name and roll number and write the same in the cells below"
   ]
  },
  {
   "cell_type": "markdown",
   "metadata": {},
   "source": [
    "# Student Name: Fahad Baig\n",
    "# Student ID: 19I1883"
   ]
  },
  {
   "cell_type": "markdown",
   "metadata": {},
   "source": [
    "# Task -1\n",
    "##### From: https://www.bloomberg.com/graphics/2019-tesla-model-3-survey/\n",
    "##### Copy X-Path Selector for Jan 2018 and paste in the cell below in Student_Solution variable leave Correct_Solution as it is"
   ]
  },
  {
   "cell_type": "code",
   "execution_count": 1,
   "metadata": {},
   "outputs": [],
   "source": [
    "Student_Solution = '/html/body/div[5]/section[3]/div/figure[1]/div[2]/div[3]/svg/g/g[3]/g[2]/rect[1]'\n",
    "Correct_Solution = '/html/body/div[5]/section[3]/div/figure[1]/div[2]/div[3]/svg/g/g[3]/g[2]/rect[1]'"
   ]
  },
  {
   "cell_type": "code",
   "execution_count": 2,
   "metadata": {},
   "outputs": [
    {
     "name": "stdout",
     "output_type": "stream",
     "text": [
      "Pass\n"
     ]
    }
   ],
   "source": [
    "if Student_Solution == Correct_Solution:\n",
    "    print(\"Pass\")\n",
    "else:\n",
    "    print(\"Fail\")\n",
    "    \n"
   ]
  },
  {
   "cell_type": "markdown",
   "metadata": {},
   "source": [
    "# Task-2"
   ]
  },
  {
   "cell_type": "markdown",
   "metadata": {},
   "source": [
    "### An example html page is loaded into a soup object you are required to do the following tasks"
   ]
  },
  {
   "cell_type": "markdown",
   "metadata": {},
   "source": [
    "- Select the Title Tag\n",
    "- Select an H1 Tag\n",
    "- Select an  Element (li)\n",
    "- Select all li Elements\n",
    "- Selecting with an ID vin3827 (use .find method of soup first arg is li second arg is dict with id and value as keypair)\n",
    "- Select with a CSS Class\n",
    "- Select all the li tags having the class 'auto-listing' using select\n",
    "- Combined Selectors\n",
    "- XPath"
   ]
  },
  {
   "cell_type": "code",
   "execution_count": 3,
   "metadata": {},
   "outputs": [],
   "source": [
    "example = open(\"example.html\",\"r\")\n",
    "contents = example.read()\n",
    "example.close()"
   ]
  },
  {
   "cell_type": "code",
   "execution_count": 4,
   "metadata": {
    "jupyter": {
     "outputs_hidden": true
    }
   },
   "outputs": [
    {
     "name": "stdout",
     "output_type": "stream",
     "text": [
      "<!DOCTYPE html>\n",
      "<head>\n",
      " <title>\n",
      "  Car Buying Web Page\n",
      " </title>\n",
      " <link href=\"example.css\" rel=\"stylesheet\" type=\"text/css\"/>\n",
      "</head>\n",
      "<body>\n",
      " <h1 id=\"main-page-title\">\n",
      "  Used Tesla Cars in Your Area\n",
      " </h1>\n",
      " <ul class=\"listings\">\n",
      "  <li class=\"auto-listing\" id=\"vin3827\">\n",
      "   <div>\n",
      "    <h2 class=\"model\">\n",
      "     2017 Tesla Model 3\n",
      "    </h2>\n",
      "    <p class=\"price\">\n",
      "     $34,586\n",
      "    </p>\n",
      "    <p class=\"description\">\n",
      "     A wonderful car and a great deal.\n",
      "    </p>\n",
      "   </div>\n",
      "  </li>\n",
      "  <li class=\"auto-listing\" id=\"vin9381\">\n",
      "   <div>\n",
      "    <h2 class=\"model\">\n",
      "     2019 Tesla Model 3\n",
      "    </h2>\n",
      "    <p class=\"price\">\n",
      "     $37,938\n",
      "    </p>\n",
      "    <p class=\"description\">\n",
      "     Great deal. Low mileage.\n",
      "    </p>\n",
      "   </div>\n",
      "  </li>\n",
      "  <li class=\"auto-listing\" id=\"vin2938\">\n",
      "   <div>\n",
      "    <h2 class=\"model\">\n",
      "     2018 Tesla Model 3\n",
      "    </h2>\n",
      "    <p class=\"price\">\n",
      "     $36,263\n",
      "    </p>\n",
      "    <p class=\"description\">\n",
      "     Bright red. Attract attention.\n",
      "    </p>\n",
      "   </div>\n",
      "  </li>\n",
      " </ul>\n",
      " <div class=\"scratchpad\">\n",
      "  <textarea class=\"edit-box\" rows=\"2\"></textarea>\n",
      " </div>\n",
      "</body>\n",
      "\n"
     ]
    }
   ],
   "source": [
    "from bs4 import BeautifulSoup\n",
    "soup = BeautifulSoup(contents)\n",
    "print(soup.prettify())"
   ]
  },
  {
   "cell_type": "markdown",
   "metadata": {},
   "source": [
    "### Task-2-1 (Select the Title Tag)"
   ]
  },
  {
   "cell_type": "code",
   "execution_count": 5,
   "metadata": {},
   "outputs": [
    {
     "data": {
      "text/plain": [
       "<title>Car Buying Web Page</title>"
      ]
     },
     "execution_count": 5,
     "metadata": {},
     "output_type": "execute_result"
    }
   ],
   "source": [
    "# Solution here\n",
    "soup.title"
   ]
  },
  {
   "cell_type": "markdown",
   "metadata": {},
   "source": [
    "### Task-2-2 (Select an H1 Tag)"
   ]
  },
  {
   "cell_type": "code",
   "execution_count": 6,
   "metadata": {},
   "outputs": [
    {
     "data": {
      "text/plain": [
       "<h1 id=\"main-page-title\">Used Tesla Cars in Your Area</h1>"
      ]
     },
     "execution_count": 6,
     "metadata": {},
     "output_type": "execute_result"
    }
   ],
   "source": [
    "# Solution here\n",
    "soup.h1"
   ]
  },
  {
   "cell_type": "markdown",
   "metadata": {},
   "source": [
    "### Task-2-3 (Select an Element (li))"
   ]
  },
  {
   "cell_type": "code",
   "execution_count": 7,
   "metadata": {},
   "outputs": [
    {
     "data": {
      "text/plain": [
       "<li class=\"auto-listing\" id=\"vin3827\">\n",
       "<div>\n",
       "<h2 class=\"model\">2017 Tesla Model 3</h2>\n",
       "<p class=\"price\">$34,586</p>\n",
       "<p class=\"description\">\n",
       "                A wonderful car and a great deal.</p>\n",
       "</div>\n",
       "</li>"
      ]
     },
     "execution_count": 7,
     "metadata": {},
     "output_type": "execute_result"
    }
   ],
   "source": [
    "# Solution here\n",
    "soup.li\n"
   ]
  },
  {
   "cell_type": "markdown",
   "metadata": {},
   "source": [
    "### Task 2-4 (Select all li Elements)"
   ]
  },
  {
   "cell_type": "code",
   "execution_count": 8,
   "metadata": {},
   "outputs": [
    {
     "data": {
      "text/plain": [
       "[<li class=\"auto-listing\" id=\"vin3827\">\n",
       " <div>\n",
       " <h2 class=\"model\">2017 Tesla Model 3</h2>\n",
       " <p class=\"price\">$34,586</p>\n",
       " <p class=\"description\">\n",
       "                 A wonderful car and a great deal.</p>\n",
       " </div>\n",
       " </li>,\n",
       " <li class=\"auto-listing\" id=\"vin9381\">\n",
       " <div>\n",
       " <h2 class=\"model\">2019 Tesla Model 3</h2>\n",
       " <p class=\"price\">$37,938</p>\n",
       " <p class=\"description\">\n",
       "                 Great deal. Low mileage.</p>\n",
       " </div>\n",
       " </li>,\n",
       " <li class=\"auto-listing\" id=\"vin2938\">\n",
       " <div>\n",
       " <h2 class=\"model\">2018 Tesla Model 3</h2>\n",
       " <p class=\"price\">$36,263</p>\n",
       " <p class=\"description\">\n",
       "                 Bright red. Attract attention.</p>\n",
       " </div>\n",
       " </li>]"
      ]
     },
     "execution_count": 8,
     "metadata": {},
     "output_type": "execute_result"
    }
   ],
   "source": [
    "# Solution here\n",
    "soup.find_all('li')"
   ]
  },
  {
   "cell_type": "markdown",
   "metadata": {},
   "source": [
    "### Task-2-5 (Selecting with an ID vin3827 )"
   ]
  },
  {
   "cell_type": "code",
   "execution_count": 9,
   "metadata": {},
   "outputs": [
    {
     "data": {
      "text/plain": [
       "<li class=\"auto-listing\" id=\"vin3827\">\n",
       "<div>\n",
       "<h2 class=\"model\">2017 Tesla Model 3</h2>\n",
       "<p class=\"price\">$34,586</p>\n",
       "<p class=\"description\">\n",
       "                A wonderful car and a great deal.</p>\n",
       "</div>\n",
       "</li>"
      ]
     },
     "execution_count": 9,
     "metadata": {},
     "output_type": "execute_result"
    }
   ],
   "source": [
    "# Solution here\n",
    "soup.find(id='vin3827')"
   ]
  },
  {
   "cell_type": "markdown",
   "metadata": {},
   "source": [
    "### Task-2-6 (Select all the li's that has ul as the parent class  using CSS selector mechanism)\n",
    "##### Hint: use .select method of soup object"
   ]
  },
  {
   "cell_type": "code",
   "execution_count": 10,
   "metadata": {},
   "outputs": [
    {
     "data": {
      "text/plain": [
       "[<li class=\"auto-listing\" id=\"vin3827\">\n",
       " <div>\n",
       " <h2 class=\"model\">2017 Tesla Model 3</h2>\n",
       " <p class=\"price\">$34,586</p>\n",
       " <p class=\"description\">\n",
       "                 A wonderful car and a great deal.</p>\n",
       " </div>\n",
       " </li>,\n",
       " <li class=\"auto-listing\" id=\"vin9381\">\n",
       " <div>\n",
       " <h2 class=\"model\">2019 Tesla Model 3</h2>\n",
       " <p class=\"price\">$37,938</p>\n",
       " <p class=\"description\">\n",
       "                 Great deal. Low mileage.</p>\n",
       " </div>\n",
       " </li>,\n",
       " <li class=\"auto-listing\" id=\"vin2938\">\n",
       " <div>\n",
       " <h2 class=\"model\">2018 Tesla Model 3</h2>\n",
       " <p class=\"price\">$36,263</p>\n",
       " <p class=\"description\">\n",
       "                 Bright red. Attract attention.</p>\n",
       " </div>\n",
       " </li>]"
      ]
     },
     "execution_count": 10,
     "metadata": {},
     "output_type": "execute_result"
    }
   ],
   "source": [
    "# Solution here\n",
    "soup.select('ul li')"
   ]
  },
  {
   "cell_type": "markdown",
   "metadata": {},
   "source": [
    "##### To get a specific element from the list of li's use"
   ]
  },
  {
   "cell_type": "code",
   "execution_count": 11,
   "metadata": {},
   "outputs": [
    {
     "data": {
      "text/plain": [
       "<li class=\"auto-listing\" id=\"vin2938\">\n",
       "<div>\n",
       "<h2 class=\"model\">2018 Tesla Model 3</h2>\n",
       "<p class=\"price\">$36,263</p>\n",
       "<p class=\"description\">\n",
       "                Bright red. Attract attention.</p>\n",
       "</div>\n",
       "</li>"
      ]
     },
     "execution_count": 11,
     "metadata": {},
     "output_type": "execute_result"
    }
   ],
   "source": [
    "soup.find_all('li')[2]"
   ]
  },
  {
   "cell_type": "markdown",
   "metadata": {},
   "source": [
    "##### Here is another way to target an element with a specific id"
   ]
  },
  {
   "cell_type": "code",
   "execution_count": 12,
   "metadata": {},
   "outputs": [],
   "source": [
    "tag = soup.select('li#vin3827')[0]"
   ]
  },
  {
   "cell_type": "code",
   "execution_count": 13,
   "metadata": {},
   "outputs": [
    {
     "data": {
      "text/plain": [
       "<li class=\"auto-listing\" id=\"vin3827\">\n",
       "<div>\n",
       "<h2 class=\"model\">2017 Tesla Model 3</h2>\n",
       "<p class=\"price\">$34,586</p>\n",
       "<p class=\"description\">\n",
       "                A wonderful car and a great deal.</p>\n",
       "</div>\n",
       "</li>"
      ]
     },
     "execution_count": 13,
     "metadata": {},
     "output_type": "execute_result"
    }
   ],
   "source": [
    "tag"
   ]
  },
  {
   "cell_type": "markdown",
   "metadata": {},
   "source": [
    "##### Now you can easily select the parent of that tag i.e. ul"
   ]
  },
  {
   "cell_type": "code",
   "execution_count": 14,
   "metadata": {},
   "outputs": [
    {
     "data": {
      "text/plain": [
       "<ul class=\"listings\">\n",
       "<li class=\"auto-listing\" id=\"vin3827\">\n",
       "<div>\n",
       "<h2 class=\"model\">2017 Tesla Model 3</h2>\n",
       "<p class=\"price\">$34,586</p>\n",
       "<p class=\"description\">\n",
       "                A wonderful car and a great deal.</p>\n",
       "</div>\n",
       "</li>\n",
       "<li class=\"auto-listing\" id=\"vin9381\">\n",
       "<div>\n",
       "<h2 class=\"model\">2019 Tesla Model 3</h2>\n",
       "<p class=\"price\">$37,938</p>\n",
       "<p class=\"description\">\n",
       "                Great deal. Low mileage.</p>\n",
       "</div>\n",
       "</li>\n",
       "<li class=\"auto-listing\" id=\"vin2938\">\n",
       "<div>\n",
       "<h2 class=\"model\">2018 Tesla Model 3</h2>\n",
       "<p class=\"price\">$36,263</p>\n",
       "<p class=\"description\">\n",
       "                Bright red. Attract attention.</p>\n",
       "</div>\n",
       "</li>\n",
       "</ul>"
      ]
     },
     "execution_count": 14,
     "metadata": {},
     "output_type": "execute_result"
    }
   ],
   "source": [
    "tag.parent"
   ]
  },
  {
   "cell_type": "markdown",
   "metadata": {},
   "source": [
    "### Task-2-7 \n",
    "##### Select all the li tags having the class 'auto-listing' using select"
   ]
  },
  {
   "cell_type": "code",
   "execution_count": 15,
   "metadata": {},
   "outputs": [
    {
     "data": {
      "text/plain": [
       "[<li class=\"auto-listing\" id=\"vin3827\">\n",
       " <div>\n",
       " <h2 class=\"model\">2017 Tesla Model 3</h2>\n",
       " <p class=\"price\">$34,586</p>\n",
       " <p class=\"description\">\n",
       "                 A wonderful car and a great deal.</p>\n",
       " </div>\n",
       " </li>,\n",
       " <li class=\"auto-listing\" id=\"vin9381\">\n",
       " <div>\n",
       " <h2 class=\"model\">2019 Tesla Model 3</h2>\n",
       " <p class=\"price\">$37,938</p>\n",
       " <p class=\"description\">\n",
       "                 Great deal. Low mileage.</p>\n",
       " </div>\n",
       " </li>,\n",
       " <li class=\"auto-listing\" id=\"vin2938\">\n",
       " <div>\n",
       " <h2 class=\"model\">2018 Tesla Model 3</h2>\n",
       " <p class=\"price\">$36,263</p>\n",
       " <p class=\"description\">\n",
       "                 Bright red. Attract attention.</p>\n",
       " </div>\n",
       " </li>]"
      ]
     },
     "execution_count": 15,
     "metadata": {},
     "output_type": "execute_result"
    }
   ],
   "source": [
    "# Code Here\n",
    "soup.select('.auto-listing')"
   ]
  },
  {
   "cell_type": "markdown",
   "metadata": {},
   "source": [
    "##### We can also get the parent and all its contents of a specific id using:"
   ]
  },
  {
   "cell_type": "code",
   "execution_count": 16,
   "metadata": {},
   "outputs": [
    {
     "data": {
      "text/plain": [
       "<ul class=\"listings\">\n",
       "<li class=\"auto-listing\" id=\"vin3827\">\n",
       "<div>\n",
       "<h2 class=\"model\">2017 Tesla Model 3</h2>\n",
       "<p class=\"price\">$34,586</p>\n",
       "<p class=\"description\">\n",
       "                A wonderful car and a great deal.</p>\n",
       "</div>\n",
       "</li>\n",
       "<li class=\"auto-listing\" id=\"vin9381\">\n",
       "<div>\n",
       "<h2 class=\"model\">2019 Tesla Model 3</h2>\n",
       "<p class=\"price\">$37,938</p>\n",
       "<p class=\"description\">\n",
       "                Great deal. Low mileage.</p>\n",
       "</div>\n",
       "</li>\n",
       "<li class=\"auto-listing\" id=\"vin2938\">\n",
       "<div>\n",
       "<h2 class=\"model\">2018 Tesla Model 3</h2>\n",
       "<p class=\"price\">$36,263</p>\n",
       "<p class=\"description\">\n",
       "                Bright red. Attract attention.</p>\n",
       "</div>\n",
       "</li>\n",
       "</ul>"
      ]
     },
     "execution_count": 16,
     "metadata": {},
     "output_type": "execute_result"
    }
   ],
   "source": [
    "soup.select_one('#vin3827').parent"
   ]
  },
  {
   "cell_type": "markdown",
   "metadata": {},
   "source": [
    "# Lets Scrape a Real Website"
   ]
  },
  {
   "cell_type": "code",
   "execution_count": 17,
   "metadata": {},
   "outputs": [],
   "source": [
    "import requests\n",
    "from bs4 import BeautifulSoup\n",
    "import pandas as pd"
   ]
  },
  {
   "cell_type": "code",
   "execution_count": 18,
   "metadata": {},
   "outputs": [],
   "source": [
    "# Download and parse the HTML\n",
    "start_url = 'https://en.wikipedia.org/wiki/Tesla,_Inc.'\n",
    "\n",
    "# Download the HTML from start_url\n",
    "downloaded_html = requests.get(start_url)\n",
    "\n",
    "# Parse the HTML with BeautifulSoup and create a soup object\n",
    "soup = BeautifulSoup(downloaded_html.text)\n",
    "\n",
    "# Save a local copy\n",
    "with open('downloaded.html', 'w',encoding='utf-8') as file:\n",
    "    # Depending on the HTML page, on the next line, you may have to use soup.prettify().encode('UTF-8')\n",
    "    file.write(soup.prettify())\n"
   ]
  },
  {
   "cell_type": "markdown",
   "metadata": {},
   "source": [
    "##### Open your downloaded.html file from anaconda enviornment"
   ]
  },
  {
   "cell_type": "markdown",
   "metadata": {},
   "source": [
    "##### Remember the choice of which selectors to use is upto you i.e. the data that you are interested in"
   ]
  },
  {
   "cell_type": "code",
   "execution_count": 19,
   "metadata": {},
   "outputs": [
    {
     "name": "stdout",
     "output_type": "stream",
     "text": [
      "<tbody><tr>\n",
      "<th>Opened\n",
      "</th>\n",
      "<th>Name\n",
      "</th>\n",
      "<th>City\n",
      "</th>\n",
      "<th>Country\n",
      "</th>\n",
      "<th>Employees\n",
      "</th>\n",
      "<th>Products\n",
      "</th>\n",
      "<th>Notes\n",
      "</th></tr>\n",
      "<tr>\n",
      "<td>2010<sup class=\"reference\" id=\"cite_ref-Wired2010_26-1\"><a href=\"#cite_note-Wired2010-26\">[26]</a></sup>\n",
      "</td>\n",
      "<td align=\"left\"><a class=\"mw-redirect\" href=\"/wiki/Tesla_Factory\" title=\"Tesla Factory\">Tesla Factory</a>\n",
      "</td>\n",
      "<td><a href=\"/wiki/Fremont,_California\" title=\"Fremont, California\">Fremont, California</a>\n",
      "</td>\n",
      "<td><span class=\"flagicon\"><img alt=\"\" class=\"thumbborder\" data-file-height=\"650\" data-file-width=\"1235\" decoding=\"async\" height=\"12\" src=\"//upload.wikimedia.org/wikipedia/en/thumb/a/a4/Flag_of_the_United_States.svg/23px-Flag_of_the_United_States.svg.png\" srcset=\"//upload.wikimedia.org/wikipedia/en/thumb/a/a4/Flag_of_the_United_States.svg/35px-Flag_of_the_United_States.svg.png 1.5x, //upload.wikimedia.org/wikipedia/en/thumb/a/a4/Flag_of_the_United_States.svg/46px-Flag_of_the_United_States.svg.png 2x\" width=\"23\"/> </span><a href=\"/wiki/United_States\" title=\"United States\">United States</a>\n",
      "</td>\n",
      "<td>10,000<sup class=\"reference\" id=\"cite_ref-TC_staff_2020_235-0\"><a href=\"#cite_note-TC_staff_2020-235\">[235]</a></sup>\n",
      "</td>\n",
      "<td><a href=\"/wiki/Tesla_Model_S\" title=\"Tesla Model S\">Model S</a>, <a href=\"/wiki/Tesla_Model_3\" title=\"Tesla Model 3\">Model 3</a>, <a href=\"/wiki/Tesla_Model_X\" title=\"Tesla Model X\">Model X</a>, <a href=\"/wiki/Tesla_Model_Y\" title=\"Tesla Model Y\">Model Y</a><sup class=\"reference\" id=\"cite_ref-TC_staff_2020_235-1\"><a href=\"#cite_note-TC_staff_2020-235\">[235]</a></sup>\n",
      "</td>\n",
      "<td align=\"left\">Previously a <a href=\"/wiki/NUMMI\" title=\"NUMMI\">NUMMI</a> factory.\n",
      "</td></tr>\n",
      "<tr>\n",
      "<td>2013<sup class=\"reference\" id=\"cite_ref-236\"><a href=\"#cite_note-236\">[236]</a></sup>\n",
      "</td>\n",
      "<td align=\"left\"><a href=\"/wiki/Tesla_facilities_in_Tilburg\" title=\"Tesla facilities in Tilburg\">Tesla facilities in Tilburg</a>\n",
      "</td>\n",
      "<td><a href=\"/wiki/Tilburg\" title=\"Tilburg\">Tilburg</a>\n",
      "</td>\n",
      "<td><span class=\"flagicon\"><img alt=\"\" class=\"thumbborder\" data-file-height=\"600\" data-file-width=\"900\" decoding=\"async\" height=\"15\" src=\"//upload.wikimedia.org/wikipedia/commons/thumb/2/20/Flag_of_the_Netherlands.svg/23px-Flag_of_the_Netherlands.svg.png\" srcset=\"//upload.wikimedia.org/wikipedia/commons/thumb/2/20/Flag_of_the_Netherlands.svg/35px-Flag_of_the_Netherlands.svg.png 1.5x, //upload.wikimedia.org/wikipedia/commons/thumb/2/20/Flag_of_the_Netherlands.svg/45px-Flag_of_the_Netherlands.svg.png 2x\" width=\"23\"/> </span><a href=\"/wiki/Netherlands\" title=\"Netherlands\">Netherlands</a>\n",
      "</td>\n",
      "<td>540<sup class=\"reference\" id=\"cite_ref-tilburg_2021_237-0\"><a href=\"#cite_note-tilburg_2021-237\">[237]</a></sup>\n",
      "</td>\n",
      "<td><a href=\"/wiki/Tesla_Model_S\" title=\"Tesla Model S\">Model S</a>, <a href=\"/wiki/Tesla_Model_X\" title=\"Tesla Model X\">Model X</a><sup class=\"reference\" id=\"cite_ref-electrek_tilburg_2019_238-0\"><a href=\"#cite_note-electrek_tilburg_2019-238\">[238]</a></sup>\n",
      "</td>\n",
      "<td align=\"left\">Tesla's first factory outside of the United States. Final EU assembly of major components from US.<sup class=\"reference\" id=\"cite_ref-electrek_tilburg_2019_238-1\"><a href=\"#cite_note-electrek_tilburg_2019-238\">[238]</a></sup>\n",
      "</td></tr>\n",
      "<tr>\n",
      "<td>2016<sup class=\"reference\" id=\"cite_ref-CT_nevada_2016_239-0\"><a href=\"#cite_note-CT_nevada_2016-239\">[239]</a></sup>\n",
      "</td>\n",
      "<td align=\"left\"><a href=\"/wiki/Giga_Nevada\" title=\"Giga Nevada\">Giga Nevada</a>\n",
      "</td>\n",
      "<td><a href=\"/wiki/Storey_County,_Nevada\" title=\"Storey County, Nevada\">Storey County</a>, Nevada\n",
      "</td>\n",
      "<td><span class=\"flagicon\"><img alt=\"\" class=\"thumbborder\" data-file-height=\"650\" data-file-width=\"1235\" decoding=\"async\" height=\"12\" src=\"//upload.wikimedia.org/wikipedia/en/thumb/a/a4/Flag_of_the_United_States.svg/23px-Flag_of_the_United_States.svg.png\" srcset=\"//upload.wikimedia.org/wikipedia/en/thumb/a/a4/Flag_of_the_United_States.svg/35px-Flag_of_the_United_States.svg.png 1.5x, //upload.wikimedia.org/wikipedia/en/thumb/a/a4/Flag_of_the_United_States.svg/46px-Flag_of_the_United_States.svg.png 2x\" width=\"23\"/> </span><a href=\"/wiki/United_States\" title=\"United States\">United States</a>\n",
      "</td>\n",
      "<td>7,000<sup class=\"reference\" id=\"cite_ref-usatoday_giganevada_2019_240-0\"><a href=\"#cite_note-usatoday_giganevada_2019-240\">[240]</a></sup>\n",
      "</td>\n",
      "<td><a class=\"mw-redirect\" href=\"/wiki/Lithium-ion_batteries\" title=\"Lithium-ion batteries\">Lithium-ion batteries</a>, <a href=\"/wiki/Tesla_Powerwall\" title=\"Tesla Powerwall\">Powerwall</a>, <a class=\"mw-redirect\" href=\"/wiki/Tesla_Powerpack\" title=\"Tesla Powerpack\">Powerpack</a>, <a href=\"/wiki/Tesla_Megapack\" title=\"Tesla Megapack\">Megapack</a>, <a href=\"/wiki/Tesla_Semi\" title=\"Tesla Semi\">Tesla Semi</a><sup class=\"reference\" id=\"cite_ref-241\"><a href=\"#cite_note-241\">[241]</a></sup>\n",
      "</td>\n",
      "<td align=\"left\">Also known as Gigafactory 1.\n",
      "</td></tr>\n",
      "<tr>\n",
      "<td>2017<sup class=\"reference\" id=\"cite_ref-UpAndRunning_242-0\"><a href=\"#cite_note-UpAndRunning-242\">[242]</a></sup>\n",
      "</td>\n",
      "<td align=\"left\"><a href=\"/wiki/Giga_New_York\" title=\"Giga New York\">Giga New York</a>\n",
      "</td>\n",
      "<td><a href=\"/wiki/Buffalo,_New_York\" title=\"Buffalo, New York\">Buffalo, New York</a>\n",
      "</td>\n",
      "<td><span class=\"flagicon\"><img alt=\"\" class=\"thumbborder\" data-file-height=\"650\" data-file-width=\"1235\" decoding=\"async\" height=\"12\" src=\"//upload.wikimedia.org/wikipedia/en/thumb/a/a4/Flag_of_the_United_States.svg/23px-Flag_of_the_United_States.svg.png\" srcset=\"//upload.wikimedia.org/wikipedia/en/thumb/a/a4/Flag_of_the_United_States.svg/35px-Flag_of_the_United_States.svg.png 1.5x, //upload.wikimedia.org/wikipedia/en/thumb/a/a4/Flag_of_the_United_States.svg/46px-Flag_of_the_United_States.svg.png 2x\" width=\"23\"/> </span><a href=\"/wiki/United_States\" title=\"United States\">United States</a>\n",
      "</td>\n",
      "<td>1,500<sup class=\"reference\" id=\"cite_ref-CT_giga2_2020_243-0\"><a href=\"#cite_note-CT_giga2_2020-243\">[243]</a></sup>\n",
      "</td>\n",
      "<td><a class=\"mw-redirect\" href=\"/wiki/Photovoltaic_cells\" title=\"Photovoltaic cells\">Photovoltaic cells</a>, <a class=\"mw-redirect\" href=\"/wiki/Solar_panels\" title=\"Solar panels\">Solar panels</a>, <a class=\"mw-redirect\" href=\"/wiki/Solar_shingles\" title=\"Solar shingles\">Solar shingles</a>, Supercharger equipment<sup class=\"reference\" id=\"cite_ref-CT_giga2_2020_243-1\"><a href=\"#cite_note-CT_giga2_2020-243\">[243]</a></sup>\n",
      "</td>\n",
      "<td align=\"left\">Also known as Gigafactory 2.<sup class=\"reference\" id=\"cite_ref-CT_giga2_2020_243-2\"><a href=\"#cite_note-CT_giga2_2020-243\">[243]</a></sup>\n",
      "</td></tr>\n",
      "<tr>\n",
      "<td>2019<sup class=\"reference\" id=\"cite_ref-cnbc20191023_244-0\"><a href=\"#cite_note-cnbc20191023-244\">[244]</a></sup>\n",
      "</td>\n",
      "<td align=\"left\"><a href=\"/wiki/Giga_Shanghai\" title=\"Giga Shanghai\">Giga Shanghai</a>\n",
      "</td>\n",
      "<td><a href=\"/wiki/Shanghai\" title=\"Shanghai\">Shanghai</a>\n",
      "</td>\n",
      "<td><span class=\"flagicon\"><img alt=\"\" class=\"thumbborder\" data-file-height=\"600\" data-file-width=\"900\" decoding=\"async\" height=\"15\" src=\"//upload.wikimedia.org/wikipedia/commons/thumb/f/fa/Flag_of_the_People%27s_Republic_of_China.svg/23px-Flag_of_the_People%27s_Republic_of_China.svg.png\" srcset=\"//upload.wikimedia.org/wikipedia/commons/thumb/f/fa/Flag_of_the_People%27s_Republic_of_China.svg/35px-Flag_of_the_People%27s_Republic_of_China.svg.png 1.5x, //upload.wikimedia.org/wikipedia/commons/thumb/f/fa/Flag_of_the_People%27s_Republic_of_China.svg/45px-Flag_of_the_People%27s_Republic_of_China.svg.png 2x\" width=\"23\"/> </span><a href=\"/wiki/China\" title=\"China\">China</a>\n",
      "</td>\n",
      "<td>2,000\n",
      "</td>\n",
      "<td><a href=\"/wiki/Tesla_Model_3\" title=\"Tesla Model 3\">Model 3</a>, <a href=\"/wiki/Tesla_Model_Y\" title=\"Tesla Model Y\">Model Y</a>\n",
      "</td>\n",
      "<td align=\"left\">Also known as Gigafactory 3. Tesla's first Gigafactory outside of the United States.\n",
      "</td></tr>\n",
      "<tr>\n",
      "<td><i>2021</i><sup class=\"reference\" id=\"cite_ref-IEVS_berlin_2021_245-0\"><a href=\"#cite_note-IEVS_berlin_2021-245\">[245]</a></sup>\n",
      "</td>\n",
      "<td align=\"left\" style=\"background:#FFFFCC;\"><a href=\"/wiki/Giga_Berlin\" title=\"Giga Berlin\">Giga Berlin</a>\n",
      "</td>\n",
      "<td><a href=\"/wiki/Gr%C3%BCnheide_(Mark)\" title=\"Grünheide (Mark)\">Grünheide</a>, <a href=\"/wiki/Brandenburg\" title=\"Brandenburg\">Brandenburg</a>\n",
      "</td>\n",
      "<td><span class=\"flagicon\"><img alt=\"\" class=\"thumbborder\" data-file-height=\"600\" data-file-width=\"1000\" decoding=\"async\" height=\"14\" src=\"//upload.wikimedia.org/wikipedia/en/thumb/b/ba/Flag_of_Germany.svg/23px-Flag_of_Germany.svg.png\" srcset=\"//upload.wikimedia.org/wikipedia/en/thumb/b/ba/Flag_of_Germany.svg/35px-Flag_of_Germany.svg.png 1.5x, //upload.wikimedia.org/wikipedia/en/thumb/b/ba/Flag_of_Germany.svg/46px-Flag_of_Germany.svg.png 2x\" width=\"23\"/> </span><a href=\"/wiki/Germany\" title=\"Germany\">Germany</a>\n",
      "</td>\n",
      "<td>10,000<sup class=\"reference\" id=\"cite_ref-246\"><a href=\"#cite_note-246\">[246]</a></sup>\n",
      "</td>\n",
      "<td><i><a class=\"mw-redirect\" href=\"/wiki/Lithium-ion_batteries\" title=\"Lithium-ion batteries\">Lithium-ion batteries</a>, <a href=\"/wiki/Tesla_Model_3\" title=\"Tesla Model 3\">Model 3</a>, <a href=\"/wiki/Tesla_Model_Y\" title=\"Tesla Model Y\">Model Y</a></i><sup class=\"reference\" id=\"cite_ref-IEVS_berlin_2021_245-1\"><a href=\"#cite_note-IEVS_berlin_2021-245\">[245]</a></sup>\n",
      "</td>\n",
      "<td align=\"left\">Also known as Gigafactory 4. Tesla's first Gigafactory in <a href=\"/wiki/Europe\" title=\"Europe\">Europe</a>.\n",
      "</td></tr>\n",
      "<tr>\n",
      "<td><i>2021</i><sup class=\"reference\" id=\"cite_ref-electrek_texas_2021_247-0\"><a href=\"#cite_note-electrek_texas_2021-247\">[247]</a></sup>\n",
      "</td>\n",
      "<td align=\"left\" style=\"background:#FFFFCC;\"><a class=\"mw-redirect\" href=\"/wiki/Gigafactory_5\" title=\"Gigafactory 5\">Giga Texas</a>\n",
      "</td>\n",
      "<td><a href=\"/wiki/Austin,_Texas\" title=\"Austin, Texas\">Austin, Texas</a>\n",
      "</td>\n",
      "<td><span class=\"flagicon\"><img alt=\"\" class=\"thumbborder\" data-file-height=\"650\" data-file-width=\"1235\" decoding=\"async\" height=\"12\" src=\"//upload.wikimedia.org/wikipedia/en/thumb/a/a4/Flag_of_the_United_States.svg/23px-Flag_of_the_United_States.svg.png\" srcset=\"//upload.wikimedia.org/wikipedia/en/thumb/a/a4/Flag_of_the_United_States.svg/35px-Flag_of_the_United_States.svg.png 1.5x, //upload.wikimedia.org/wikipedia/en/thumb/a/a4/Flag_of_the_United_States.svg/46px-Flag_of_the_United_States.svg.png 2x\" width=\"23\"/> </span><a href=\"/wiki/United_States\" title=\"United States\">United States</a>\n",
      "</td>\n",
      "<td>10,000<sup class=\"reference\" id=\"cite_ref-248\"><a href=\"#cite_note-248\">[248]</a></sup>\n",
      "</td>\n",
      "<td><i><a href=\"/wiki/Tesla_Cybertruck\" title=\"Tesla Cybertruck\">Cybertruck</a>, <a href=\"/wiki/Tesla_Model_3\" title=\"Tesla Model 3\">Model 3</a>, <a href=\"/wiki/Tesla_Model_Y\" title=\"Tesla Model Y\">Model Y</a>, <a href=\"/wiki/Tesla_Semi\" title=\"Tesla Semi\">Semi</a></i><sup class=\"reference\" id=\"cite_ref-Vorrath_249-0\"><a href=\"#cite_note-Vorrath-249\">[249]</a></sup>\n",
      "</td>\n",
      "<td align=\"left\">Also known as Gigafactory 5.\n",
      "</td></tr>\n",
      "</tbody>\n"
     ]
    }
   ],
   "source": [
    "# Select table.wikitable with just the tbody tags getting the zeroth element gets rid of the array brackets in\n",
    "# the out put if confused just run: soup.select('table.wikitable') and see the output then run \n",
    "# soup.select('table.wikitable tbody') and check out the output\n",
    "full_table = soup.select('table.wikitable tbody')[0] \n",
    "print(full_table)\n"
   ]
  },
  {
   "cell_type": "markdown",
   "metadata": {},
   "source": [
    "## Extract Data to Pandas"
   ]
  },
  {
   "cell_type": "markdown",
   "metadata": {},
   "source": [
    "#### To build our pandas data frame we will need a list with all the column headings the column headings are in th tags"
   ]
  },
  {
   "cell_type": "markdown",
   "metadata": {},
   "source": [
    "##### We wil start the building process iteratively. It gets more refined as we go through each iteration"
   ]
  },
  {
   "cell_type": "markdown",
   "metadata": {},
   "source": [
    "# Task-3 \n",
    "### Select the table row and table headings from BeautifulSoup object"
   ]
  },
  {
   "cell_type": "code",
   "execution_count": 20,
   "metadata": {},
   "outputs": [
    {
     "name": "stdout",
     "output_type": "stream",
     "text": [
      "-----------\n",
      "Opened\n",
      "\n",
      "Name\n",
      "\n",
      "City\n",
      "\n",
      "Country\n",
      "\n",
      "Employees\n",
      "\n",
      "Products\n",
      "\n",
      "Notes\n",
      "\n"
     ]
    }
   ],
   "source": [
    "# Full table is still a beautifulSoup object select the table row and table headings from this object\n",
    "# Extract the table column headings\n",
    "# End result: A list with all the column headings\n",
    "\n",
    "table_head = full_table.select('th')   # Code Here Select table headings\n",
    "\n",
    "print('-----------')\n",
    "for element in table_head:\n",
    "    print(element.text)"
   ]
  },
  {
   "cell_type": "code",
   "execution_count": 21,
   "metadata": {},
   "outputs": [
    {
     "name": "stdout",
     "output_type": "stream",
     "text": [
      "Opened\n",
      "Name\n",
      "City\n",
      "Country\n",
      "Employees\n",
      "Products\n",
      "Notes\n",
      "-----------\n",
      "['Opened', 'Name', 'City', 'Country', 'Employees', 'Products', 'Notes']\n"
     ]
    }
   ],
   "source": [
    "# Extract the table column headings\n",
    "# End result: A list with all the column headings\n",
    "\n",
    "# >> Let's try this again\n",
    "\n",
    "table_head = full_table.select('th')  # paste solution from task 3 here\n",
    "\n",
    "table_columns = []\n",
    "for element in table_head:\n",
    "    column_label = element.get_text(separator=\" \", strip=True)\n",
    "    table_columns.append(column_label)\n",
    "    print(column_label)\n",
    "\n",
    "print('-----------')\n",
    "print(table_columns)"
   ]
  },
  {
   "cell_type": "code",
   "execution_count": 22,
   "metadata": {},
   "outputs": [
    {
     "name": "stdout",
     "output_type": "stream",
     "text": [
      "['Opened', 'Name', 'City', 'Country', 'Employees', 'Products', 'Notes']\n"
     ]
    }
   ],
   "source": [
    "# Extract the table column headings\n",
    "# >> Iteration 3\n",
    "\n",
    "table_columns = []\n",
    "for element in table_head:\n",
    "    column_label = element.get_text(separator=\" \", strip=True)\n",
    "    column_label = column_label.replace(' ', '_')\n",
    "    table_columns.append(column_label)\n",
    "print(table_columns)"
   ]
  },
  {
   "cell_type": "code",
   "execution_count": 23,
   "metadata": {},
   "outputs": [
    {
     "name": "stdout",
     "output_type": "stream",
     "text": [
      "['Opened', 'Name', 'City', 'Country', 'Employees', 'Products', 'Notes']\n"
     ]
    }
   ],
   "source": [
    "# Extract the table column headings\n",
    "# End result: A list with all the column headings\n",
    "\n",
    "# >> Final Iteration\n",
    "\n",
    "import re\n",
    "# Suppose there is a dirty column name such as In_Transit_[c] which is very common\n",
    "# we can create a regex that says look for an _ followed by \\[ \\w means any word character that can capture\n",
    "# the c above followed by a right brecket \\] breckets have meaning in regex for groupings so we need to escape them.\n",
    "regex = re.compile('_\\[\\w\\]')\n",
    "\n",
    "table_columns = []\n",
    "for element in table_head:\n",
    "    column_label = element.get_text(separator=\" \", strip=True)\n",
    "    # If our column names had spaces you can replace the space with underscore using the line below\n",
    "    column_label = column_label.replace(' ', '_')\n",
    "    # Matching the regex pattern here\n",
    "    column_label = regex.sub('', column_label)\n",
    "    table_columns.append(column_label)\n",
    "print(table_columns)"
   ]
  },
  {
   "cell_type": "markdown",
   "metadata": {},
   "source": [
    "##### Selecting all the tr elements to get a list of table rows\n",
    "##### For creating a pandas dataframe we want multi dimensional list i.e a list for every row combined into a higher level list (list of lists)"
   ]
  },
  {
   "cell_type": "code",
   "execution_count": 24,
   "metadata": {},
   "outputs": [
    {
     "name": "stdout",
     "output_type": "stream",
     "text": [
      "[<tr>\n",
      "<th>Opened\n",
      "</th>\n",
      "<th>Name\n",
      "</th>\n",
      "<th>City\n",
      "</th>\n",
      "<th>Country\n",
      "</th>\n",
      "<th>Employees\n",
      "</th>\n",
      "<th>Products\n",
      "</th>\n",
      "<th>Notes\n",
      "</th></tr>, <tr>\n",
      "<td>2010<sup class=\"reference\" id=\"cite_ref-Wired2010_26-1\"><a href=\"#cite_note-Wired2010-26\">[26]</a></sup>\n",
      "</td>\n",
      "<td align=\"left\"><a class=\"mw-redirect\" href=\"/wiki/Tesla_Factory\" title=\"Tesla Factory\">Tesla Factory</a>\n",
      "</td>\n",
      "<td><a href=\"/wiki/Fremont,_California\" title=\"Fremont, California\">Fremont, California</a>\n",
      "</td>\n",
      "<td><span class=\"flagicon\"><img alt=\"\" class=\"thumbborder\" data-file-height=\"650\" data-file-width=\"1235\" decoding=\"async\" height=\"12\" src=\"//upload.wikimedia.org/wikipedia/en/thumb/a/a4/Flag_of_the_United_States.svg/23px-Flag_of_the_United_States.svg.png\" srcset=\"//upload.wikimedia.org/wikipedia/en/thumb/a/a4/Flag_of_the_United_States.svg/35px-Flag_of_the_United_States.svg.png 1.5x, //upload.wikimedia.org/wikipedia/en/thumb/a/a4/Flag_of_the_United_States.svg/46px-Flag_of_the_United_States.svg.png 2x\" width=\"23\"/> </span><a href=\"/wiki/United_States\" title=\"United States\">United States</a>\n",
      "</td>\n",
      "<td>10,000<sup class=\"reference\" id=\"cite_ref-TC_staff_2020_235-0\"><a href=\"#cite_note-TC_staff_2020-235\">[235]</a></sup>\n",
      "</td>\n",
      "<td><a href=\"/wiki/Tesla_Model_S\" title=\"Tesla Model S\">Model S</a>, <a href=\"/wiki/Tesla_Model_3\" title=\"Tesla Model 3\">Model 3</a>, <a href=\"/wiki/Tesla_Model_X\" title=\"Tesla Model X\">Model X</a>, <a href=\"/wiki/Tesla_Model_Y\" title=\"Tesla Model Y\">Model Y</a><sup class=\"reference\" id=\"cite_ref-TC_staff_2020_235-1\"><a href=\"#cite_note-TC_staff_2020-235\">[235]</a></sup>\n",
      "</td>\n",
      "<td align=\"left\">Previously a <a href=\"/wiki/NUMMI\" title=\"NUMMI\">NUMMI</a> factory.\n",
      "</td></tr>, <tr>\n",
      "<td>2013<sup class=\"reference\" id=\"cite_ref-236\"><a href=\"#cite_note-236\">[236]</a></sup>\n",
      "</td>\n",
      "<td align=\"left\"><a href=\"/wiki/Tesla_facilities_in_Tilburg\" title=\"Tesla facilities in Tilburg\">Tesla facilities in Tilburg</a>\n",
      "</td>\n",
      "<td><a href=\"/wiki/Tilburg\" title=\"Tilburg\">Tilburg</a>\n",
      "</td>\n",
      "<td><span class=\"flagicon\"><img alt=\"\" class=\"thumbborder\" data-file-height=\"600\" data-file-width=\"900\" decoding=\"async\" height=\"15\" src=\"//upload.wikimedia.org/wikipedia/commons/thumb/2/20/Flag_of_the_Netherlands.svg/23px-Flag_of_the_Netherlands.svg.png\" srcset=\"//upload.wikimedia.org/wikipedia/commons/thumb/2/20/Flag_of_the_Netherlands.svg/35px-Flag_of_the_Netherlands.svg.png 1.5x, //upload.wikimedia.org/wikipedia/commons/thumb/2/20/Flag_of_the_Netherlands.svg/45px-Flag_of_the_Netherlands.svg.png 2x\" width=\"23\"/> </span><a href=\"/wiki/Netherlands\" title=\"Netherlands\">Netherlands</a>\n",
      "</td>\n",
      "<td>540<sup class=\"reference\" id=\"cite_ref-tilburg_2021_237-0\"><a href=\"#cite_note-tilburg_2021-237\">[237]</a></sup>\n",
      "</td>\n",
      "<td><a href=\"/wiki/Tesla_Model_S\" title=\"Tesla Model S\">Model S</a>, <a href=\"/wiki/Tesla_Model_X\" title=\"Tesla Model X\">Model X</a><sup class=\"reference\" id=\"cite_ref-electrek_tilburg_2019_238-0\"><a href=\"#cite_note-electrek_tilburg_2019-238\">[238]</a></sup>\n",
      "</td>\n",
      "<td align=\"left\">Tesla's first factory outside of the United States. Final EU assembly of major components from US.<sup class=\"reference\" id=\"cite_ref-electrek_tilburg_2019_238-1\"><a href=\"#cite_note-electrek_tilburg_2019-238\">[238]</a></sup>\n",
      "</td></tr>, <tr>\n",
      "<td>2016<sup class=\"reference\" id=\"cite_ref-CT_nevada_2016_239-0\"><a href=\"#cite_note-CT_nevada_2016-239\">[239]</a></sup>\n",
      "</td>\n",
      "<td align=\"left\"><a href=\"/wiki/Giga_Nevada\" title=\"Giga Nevada\">Giga Nevada</a>\n",
      "</td>\n",
      "<td><a href=\"/wiki/Storey_County,_Nevada\" title=\"Storey County, Nevada\">Storey County</a>, Nevada\n",
      "</td>\n",
      "<td><span class=\"flagicon\"><img alt=\"\" class=\"thumbborder\" data-file-height=\"650\" data-file-width=\"1235\" decoding=\"async\" height=\"12\" src=\"//upload.wikimedia.org/wikipedia/en/thumb/a/a4/Flag_of_the_United_States.svg/23px-Flag_of_the_United_States.svg.png\" srcset=\"//upload.wikimedia.org/wikipedia/en/thumb/a/a4/Flag_of_the_United_States.svg/35px-Flag_of_the_United_States.svg.png 1.5x, //upload.wikimedia.org/wikipedia/en/thumb/a/a4/Flag_of_the_United_States.svg/46px-Flag_of_the_United_States.svg.png 2x\" width=\"23\"/> </span><a href=\"/wiki/United_States\" title=\"United States\">United States</a>\n",
      "</td>\n",
      "<td>7,000<sup class=\"reference\" id=\"cite_ref-usatoday_giganevada_2019_240-0\"><a href=\"#cite_note-usatoday_giganevada_2019-240\">[240]</a></sup>\n",
      "</td>\n",
      "<td><a class=\"mw-redirect\" href=\"/wiki/Lithium-ion_batteries\" title=\"Lithium-ion batteries\">Lithium-ion batteries</a>, <a href=\"/wiki/Tesla_Powerwall\" title=\"Tesla Powerwall\">Powerwall</a>, <a class=\"mw-redirect\" href=\"/wiki/Tesla_Powerpack\" title=\"Tesla Powerpack\">Powerpack</a>, <a href=\"/wiki/Tesla_Megapack\" title=\"Tesla Megapack\">Megapack</a>, <a href=\"/wiki/Tesla_Semi\" title=\"Tesla Semi\">Tesla Semi</a><sup class=\"reference\" id=\"cite_ref-241\"><a href=\"#cite_note-241\">[241]</a></sup>\n",
      "</td>\n",
      "<td align=\"left\">Also known as Gigafactory 1.\n",
      "</td></tr>, <tr>\n",
      "<td>2017<sup class=\"reference\" id=\"cite_ref-UpAndRunning_242-0\"><a href=\"#cite_note-UpAndRunning-242\">[242]</a></sup>\n",
      "</td>\n",
      "<td align=\"left\"><a href=\"/wiki/Giga_New_York\" title=\"Giga New York\">Giga New York</a>\n",
      "</td>\n",
      "<td><a href=\"/wiki/Buffalo,_New_York\" title=\"Buffalo, New York\">Buffalo, New York</a>\n",
      "</td>\n",
      "<td><span class=\"flagicon\"><img alt=\"\" class=\"thumbborder\" data-file-height=\"650\" data-file-width=\"1235\" decoding=\"async\" height=\"12\" src=\"//upload.wikimedia.org/wikipedia/en/thumb/a/a4/Flag_of_the_United_States.svg/23px-Flag_of_the_United_States.svg.png\" srcset=\"//upload.wikimedia.org/wikipedia/en/thumb/a/a4/Flag_of_the_United_States.svg/35px-Flag_of_the_United_States.svg.png 1.5x, //upload.wikimedia.org/wikipedia/en/thumb/a/a4/Flag_of_the_United_States.svg/46px-Flag_of_the_United_States.svg.png 2x\" width=\"23\"/> </span><a href=\"/wiki/United_States\" title=\"United States\">United States</a>\n",
      "</td>\n",
      "<td>1,500<sup class=\"reference\" id=\"cite_ref-CT_giga2_2020_243-0\"><a href=\"#cite_note-CT_giga2_2020-243\">[243]</a></sup>\n",
      "</td>\n",
      "<td><a class=\"mw-redirect\" href=\"/wiki/Photovoltaic_cells\" title=\"Photovoltaic cells\">Photovoltaic cells</a>, <a class=\"mw-redirect\" href=\"/wiki/Solar_panels\" title=\"Solar panels\">Solar panels</a>, <a class=\"mw-redirect\" href=\"/wiki/Solar_shingles\" title=\"Solar shingles\">Solar shingles</a>, Supercharger equipment<sup class=\"reference\" id=\"cite_ref-CT_giga2_2020_243-1\"><a href=\"#cite_note-CT_giga2_2020-243\">[243]</a></sup>\n",
      "</td>\n",
      "<td align=\"left\">Also known as Gigafactory 2.<sup class=\"reference\" id=\"cite_ref-CT_giga2_2020_243-2\"><a href=\"#cite_note-CT_giga2_2020-243\">[243]</a></sup>\n",
      "</td></tr>, <tr>\n",
      "<td>2019<sup class=\"reference\" id=\"cite_ref-cnbc20191023_244-0\"><a href=\"#cite_note-cnbc20191023-244\">[244]</a></sup>\n",
      "</td>\n",
      "<td align=\"left\"><a href=\"/wiki/Giga_Shanghai\" title=\"Giga Shanghai\">Giga Shanghai</a>\n",
      "</td>\n",
      "<td><a href=\"/wiki/Shanghai\" title=\"Shanghai\">Shanghai</a>\n",
      "</td>\n",
      "<td><span class=\"flagicon\"><img alt=\"\" class=\"thumbborder\" data-file-height=\"600\" data-file-width=\"900\" decoding=\"async\" height=\"15\" src=\"//upload.wikimedia.org/wikipedia/commons/thumb/f/fa/Flag_of_the_People%27s_Republic_of_China.svg/23px-Flag_of_the_People%27s_Republic_of_China.svg.png\" srcset=\"//upload.wikimedia.org/wikipedia/commons/thumb/f/fa/Flag_of_the_People%27s_Republic_of_China.svg/35px-Flag_of_the_People%27s_Republic_of_China.svg.png 1.5x, //upload.wikimedia.org/wikipedia/commons/thumb/f/fa/Flag_of_the_People%27s_Republic_of_China.svg/45px-Flag_of_the_People%27s_Republic_of_China.svg.png 2x\" width=\"23\"/> </span><a href=\"/wiki/China\" title=\"China\">China</a>\n",
      "</td>\n",
      "<td>2,000\n",
      "</td>\n",
      "<td><a href=\"/wiki/Tesla_Model_3\" title=\"Tesla Model 3\">Model 3</a>, <a href=\"/wiki/Tesla_Model_Y\" title=\"Tesla Model Y\">Model Y</a>\n",
      "</td>\n",
      "<td align=\"left\">Also known as Gigafactory 3. Tesla's first Gigafactory outside of the United States.\n",
      "</td></tr>, <tr>\n",
      "<td><i>2021</i><sup class=\"reference\" id=\"cite_ref-IEVS_berlin_2021_245-0\"><a href=\"#cite_note-IEVS_berlin_2021-245\">[245]</a></sup>\n",
      "</td>\n",
      "<td align=\"left\" style=\"background:#FFFFCC;\"><a href=\"/wiki/Giga_Berlin\" title=\"Giga Berlin\">Giga Berlin</a>\n",
      "</td>\n",
      "<td><a href=\"/wiki/Gr%C3%BCnheide_(Mark)\" title=\"Grünheide (Mark)\">Grünheide</a>, <a href=\"/wiki/Brandenburg\" title=\"Brandenburg\">Brandenburg</a>\n",
      "</td>\n",
      "<td><span class=\"flagicon\"><img alt=\"\" class=\"thumbborder\" data-file-height=\"600\" data-file-width=\"1000\" decoding=\"async\" height=\"14\" src=\"//upload.wikimedia.org/wikipedia/en/thumb/b/ba/Flag_of_Germany.svg/23px-Flag_of_Germany.svg.png\" srcset=\"//upload.wikimedia.org/wikipedia/en/thumb/b/ba/Flag_of_Germany.svg/35px-Flag_of_Germany.svg.png 1.5x, //upload.wikimedia.org/wikipedia/en/thumb/b/ba/Flag_of_Germany.svg/46px-Flag_of_Germany.svg.png 2x\" width=\"23\"/> </span><a href=\"/wiki/Germany\" title=\"Germany\">Germany</a>\n",
      "</td>\n",
      "<td>10,000<sup class=\"reference\" id=\"cite_ref-246\"><a href=\"#cite_note-246\">[246]</a></sup>\n",
      "</td>\n",
      "<td><i><a class=\"mw-redirect\" href=\"/wiki/Lithium-ion_batteries\" title=\"Lithium-ion batteries\">Lithium-ion batteries</a>, <a href=\"/wiki/Tesla_Model_3\" title=\"Tesla Model 3\">Model 3</a>, <a href=\"/wiki/Tesla_Model_Y\" title=\"Tesla Model Y\">Model Y</a></i><sup class=\"reference\" id=\"cite_ref-IEVS_berlin_2021_245-1\"><a href=\"#cite_note-IEVS_berlin_2021-245\">[245]</a></sup>\n",
      "</td>\n",
      "<td align=\"left\">Also known as Gigafactory 4. Tesla's first Gigafactory in <a href=\"/wiki/Europe\" title=\"Europe\">Europe</a>.\n",
      "</td></tr>, <tr>\n",
      "<td><i>2021</i><sup class=\"reference\" id=\"cite_ref-electrek_texas_2021_247-0\"><a href=\"#cite_note-electrek_texas_2021-247\">[247]</a></sup>\n",
      "</td>\n",
      "<td align=\"left\" style=\"background:#FFFFCC;\"><a class=\"mw-redirect\" href=\"/wiki/Gigafactory_5\" title=\"Gigafactory 5\">Giga Texas</a>\n",
      "</td>\n",
      "<td><a href=\"/wiki/Austin,_Texas\" title=\"Austin, Texas\">Austin, Texas</a>\n",
      "</td>\n",
      "<td><span class=\"flagicon\"><img alt=\"\" class=\"thumbborder\" data-file-height=\"650\" data-file-width=\"1235\" decoding=\"async\" height=\"12\" src=\"//upload.wikimedia.org/wikipedia/en/thumb/a/a4/Flag_of_the_United_States.svg/23px-Flag_of_the_United_States.svg.png\" srcset=\"//upload.wikimedia.org/wikipedia/en/thumb/a/a4/Flag_of_the_United_States.svg/35px-Flag_of_the_United_States.svg.png 1.5x, //upload.wikimedia.org/wikipedia/en/thumb/a/a4/Flag_of_the_United_States.svg/46px-Flag_of_the_United_States.svg.png 2x\" width=\"23\"/> </span><a href=\"/wiki/United_States\" title=\"United States\">United States</a>\n",
      "</td>\n",
      "<td>10,000<sup class=\"reference\" id=\"cite_ref-248\"><a href=\"#cite_note-248\">[248]</a></sup>\n",
      "</td>\n",
      "<td><i><a href=\"/wiki/Tesla_Cybertruck\" title=\"Tesla Cybertruck\">Cybertruck</a>, <a href=\"/wiki/Tesla_Model_3\" title=\"Tesla Model 3\">Model 3</a>, <a href=\"/wiki/Tesla_Model_Y\" title=\"Tesla Model Y\">Model Y</a>, <a href=\"/wiki/Tesla_Semi\" title=\"Tesla Semi\">Semi</a></i><sup class=\"reference\" id=\"cite_ref-Vorrath_249-0\"><a href=\"#cite_note-Vorrath-249\">[249]</a></sup>\n",
      "</td>\n",
      "<td align=\"left\">Also known as Gigafactory 5.\n",
      "</td></tr>]\n"
     ]
    }
   ],
   "source": [
    "# Extract the table data (rows)\n",
    "# End result: A multi-dimensional list containing a list for each row\n",
    "\n",
    "table_rows = full_table.select('tr')\n",
    "print(table_rows)"
   ]
  },
  {
   "cell_type": "markdown",
   "metadata": {},
   "source": [
    "##### And we also want to skip th as we dont need column headers anymore"
   ]
  },
  {
   "cell_type": "markdown",
   "metadata": {},
   "source": [
    "# Task-4\n",
    "##### For each table row i want the data for that row Fill in the missing part\n",
    "##### Hint: Go through the html of the webpage using chrome tools to figure out."
   ]
  },
  {
   "cell_type": "code",
   "execution_count": 25,
   "metadata": {},
   "outputs": [
    {
     "name": "stdout",
     "output_type": "stream",
     "text": [
      "[['2010[26]\\n', 'Tesla Factory\\n', 'Fremont, California\\n', '\\xa0United States\\n', '10,000[235]\\n', 'Model S, Model 3, Model X, Model Y[235]\\n', 'Previously a NUMMI factory.\\n'], ['2013[236]\\n', 'Tesla facilities in Tilburg\\n', 'Tilburg\\n', '\\xa0Netherlands\\n', '540[237]\\n', 'Model S, Model X[238]\\n', \"Tesla's first factory outside of the United States. Final EU assembly of major components from US.[238]\\n\"], ['2016[239]\\n', 'Giga Nevada\\n', 'Storey County, Nevada\\n', '\\xa0United States\\n', '7,000[240]\\n', 'Lithium-ion batteries, Powerwall, Powerpack, Megapack, Tesla Semi[241]\\n', 'Also known as Gigafactory 1.\\n'], ['2017[242]\\n', 'Giga New York\\n', 'Buffalo, New York\\n', '\\xa0United States\\n', '1,500[243]\\n', 'Photovoltaic cells, Solar panels, Solar shingles, Supercharger equipment[243]\\n', 'Also known as Gigafactory 2.[243]\\n'], ['2019[244]\\n', 'Giga Shanghai\\n', 'Shanghai\\n', '\\xa0China\\n', '2,000\\n', 'Model 3, Model Y\\n', \"Also known as Gigafactory 3. Tesla's first Gigafactory outside of the United States.\\n\"], ['2021[245]\\n', 'Giga Berlin\\n', 'Grünheide, Brandenburg\\n', '\\xa0Germany\\n', '10,000[246]\\n', 'Lithium-ion batteries, Model 3, Model Y[245]\\n', \"Also known as Gigafactory 4. Tesla's first Gigafactory in Europe.\\n\"], ['2021[247]\\n', 'Giga Texas\\n', 'Austin, Texas\\n', '\\xa0United States\\n', '10,000[248]\\n', 'Cybertruck, Model 3, Model Y, Semi[249]\\n', 'Also known as Gigafactory 5.\\n']]\n"
     ]
    }
   ],
   "source": [
    "# Extract the table data (rows)\n",
    "# End result: A multi-dimensional list containing a list for each row\n",
    "\n",
    "# Iteration 2\n",
    "\n",
    "table_rows = full_table.select('tr')\n",
    "\n",
    "table_data = []\n",
    "for index, element in enumerate(table_rows):\n",
    "    # Skipping the first row\n",
    "    if index > 0:\n",
    "        # Building our row list\n",
    "        row_list = []\n",
    "        \n",
    "        values = element.select('td') # Code here to select the data cells\n",
    "        for value in values:\n",
    "            row_list.append(value.text)\n",
    "        table_data.append(row_list)\n",
    "\n",
    "print(table_data)"
   ]
  },
  {
   "cell_type": "markdown",
   "metadata": {},
   "source": [
    "##### The double brackets above means list of lists that pandas want i.e each row in a sub list seperated by comma but we can see \\n newline character that we dont want."
   ]
  },
  {
   "cell_type": "code",
   "execution_count": 26,
   "metadata": {},
   "outputs": [
    {
     "name": "stdout",
     "output_type": "stream",
     "text": [
      "[['2010[26]', 'Tesla Factory', 'Fremont, California', 'United States', '10,000[235]', 'Model S, Model 3, Model X, Model Y[235]', 'Previously a NUMMI factory.'], ['2013[236]', 'Tesla facilities in Tilburg', 'Tilburg', 'Netherlands', '540[237]', 'Model S, Model X[238]', \"Tesla's first factory outside of the United States. Final EU assembly of major components from US.[238]\"], ['2016[239]', 'Giga Nevada', 'Storey County, Nevada', 'United States', '7,000[240]', 'Lithium-ion batteries, Powerwall, Powerpack, Megapack, Tesla Semi[241]', 'Also known as Gigafactory 1.'], ['2017[242]', 'Giga New York', 'Buffalo, New York', 'United States', '1,500[243]', 'Photovoltaic cells, Solar panels, Solar shingles, Supercharger equipment[243]', 'Also known as Gigafactory 2.[243]'], ['2019[244]', 'Giga Shanghai', 'Shanghai', 'China', '2,000', 'Model 3, Model Y', \"Also known as Gigafactory 3. Tesla's first Gigafactory outside of the United States.\"], ['2021[245]', 'Giga Berlin', 'Grünheide, Brandenburg', 'Germany', '10,000[246]', 'Lithium-ion batteries, Model 3, Model Y[245]', \"Also known as Gigafactory 4. Tesla's first Gigafactory in Europe.\"], ['2021[247]', 'Giga Texas', 'Austin, Texas', 'United States', '10,000[248]', 'Cybertruck, Model 3, Model Y, Semi[249]', 'Also known as Gigafactory 5.']]\n"
     ]
    }
   ],
   "source": [
    "# Extract the table data (rows)\n",
    "# End result: A multi-dimensional list containing a list for each row\n",
    "\n",
    "# Final Iteration\n",
    "\n",
    "table_rows = full_table.select('tr')\n",
    "table_data = []\n",
    "for index, element in enumerate(table_rows):\n",
    "    if index > 0:\n",
    "        row_list = []\n",
    "        values =  element.select('td')    # Paste task 4 solution here\n",
    "        for value in values:\n",
    "            # Remember strip function? newlines are considered as white space so strip() gets rid of them \n",
    "            row_list.append(value.text.strip())\n",
    "        table_data.append(row_list)\n",
    "\n",
    "print(table_data)\n"
   ]
  },
  {
   "cell_type": "markdown",
   "metadata": {},
   "source": [
    "##### Just feed the table_data and table_columns into the pandas DataFrame function and we are done"
   ]
  },
  {
   "cell_type": "code",
   "execution_count": 27,
   "metadata": {
    "scrolled": true
   },
   "outputs": [
    {
     "data": {
      "text/html": [
       "<div>\n",
       "<style scoped>\n",
       "    .dataframe tbody tr th:only-of-type {\n",
       "        vertical-align: middle;\n",
       "    }\n",
       "\n",
       "    .dataframe tbody tr th {\n",
       "        vertical-align: top;\n",
       "    }\n",
       "\n",
       "    .dataframe thead th {\n",
       "        text-align: right;\n",
       "    }\n",
       "</style>\n",
       "<table border=\"1\" class=\"dataframe\">\n",
       "  <thead>\n",
       "    <tr style=\"text-align: right;\">\n",
       "      <th></th>\n",
       "      <th>Opened</th>\n",
       "      <th>Name</th>\n",
       "      <th>City</th>\n",
       "      <th>Country</th>\n",
       "      <th>Employees</th>\n",
       "      <th>Products</th>\n",
       "      <th>Notes</th>\n",
       "    </tr>\n",
       "  </thead>\n",
       "  <tbody>\n",
       "    <tr>\n",
       "      <th>0</th>\n",
       "      <td>2010[26]</td>\n",
       "      <td>Tesla Factory</td>\n",
       "      <td>Fremont, California</td>\n",
       "      <td>United States</td>\n",
       "      <td>10,000[235]</td>\n",
       "      <td>Model S, Model 3, Model X, Model Y[235]</td>\n",
       "      <td>Previously a NUMMI factory.</td>\n",
       "    </tr>\n",
       "    <tr>\n",
       "      <th>1</th>\n",
       "      <td>2013[236]</td>\n",
       "      <td>Tesla facilities in Tilburg</td>\n",
       "      <td>Tilburg</td>\n",
       "      <td>Netherlands</td>\n",
       "      <td>540[237]</td>\n",
       "      <td>Model S, Model X[238]</td>\n",
       "      <td>Tesla's first factory outside of the United St...</td>\n",
       "    </tr>\n",
       "    <tr>\n",
       "      <th>2</th>\n",
       "      <td>2016[239]</td>\n",
       "      <td>Giga Nevada</td>\n",
       "      <td>Storey County, Nevada</td>\n",
       "      <td>United States</td>\n",
       "      <td>7,000[240]</td>\n",
       "      <td>Lithium-ion batteries, Powerwall, Powerpack, M...</td>\n",
       "      <td>Also known as Gigafactory 1.</td>\n",
       "    </tr>\n",
       "    <tr>\n",
       "      <th>3</th>\n",
       "      <td>2017[242]</td>\n",
       "      <td>Giga New York</td>\n",
       "      <td>Buffalo, New York</td>\n",
       "      <td>United States</td>\n",
       "      <td>1,500[243]</td>\n",
       "      <td>Photovoltaic cells, Solar panels, Solar shingl...</td>\n",
       "      <td>Also known as Gigafactory 2.[243]</td>\n",
       "    </tr>\n",
       "    <tr>\n",
       "      <th>4</th>\n",
       "      <td>2019[244]</td>\n",
       "      <td>Giga Shanghai</td>\n",
       "      <td>Shanghai</td>\n",
       "      <td>China</td>\n",
       "      <td>2,000</td>\n",
       "      <td>Model 3, Model Y</td>\n",
       "      <td>Also known as Gigafactory 3. Tesla's first Gig...</td>\n",
       "    </tr>\n",
       "    <tr>\n",
       "      <th>5</th>\n",
       "      <td>2021[245]</td>\n",
       "      <td>Giga Berlin</td>\n",
       "      <td>Grünheide, Brandenburg</td>\n",
       "      <td>Germany</td>\n",
       "      <td>10,000[246]</td>\n",
       "      <td>Lithium-ion batteries, Model 3, Model Y[245]</td>\n",
       "      <td>Also known as Gigafactory 4. Tesla's first Gig...</td>\n",
       "    </tr>\n",
       "    <tr>\n",
       "      <th>6</th>\n",
       "      <td>2021[247]</td>\n",
       "      <td>Giga Texas</td>\n",
       "      <td>Austin, Texas</td>\n",
       "      <td>United States</td>\n",
       "      <td>10,000[248]</td>\n",
       "      <td>Cybertruck, Model 3, Model Y, Semi[249]</td>\n",
       "      <td>Also known as Gigafactory 5.</td>\n",
       "    </tr>\n",
       "  </tbody>\n",
       "</table>\n",
       "</div>"
      ],
      "text/plain": [
       "      Opened                         Name                    City  \\\n",
       "0   2010[26]                Tesla Factory     Fremont, California   \n",
       "1  2013[236]  Tesla facilities in Tilburg                 Tilburg   \n",
       "2  2016[239]                  Giga Nevada   Storey County, Nevada   \n",
       "3  2017[242]                Giga New York       Buffalo, New York   \n",
       "4  2019[244]                Giga Shanghai                Shanghai   \n",
       "5  2021[245]                  Giga Berlin  Grünheide, Brandenburg   \n",
       "6  2021[247]                   Giga Texas           Austin, Texas   \n",
       "\n",
       "         Country    Employees  \\\n",
       "0  United States  10,000[235]   \n",
       "1    Netherlands     540[237]   \n",
       "2  United States   7,000[240]   \n",
       "3  United States   1,500[243]   \n",
       "4          China        2,000   \n",
       "5        Germany  10,000[246]   \n",
       "6  United States  10,000[248]   \n",
       "\n",
       "                                            Products  \\\n",
       "0            Model S, Model 3, Model X, Model Y[235]   \n",
       "1                              Model S, Model X[238]   \n",
       "2  Lithium-ion batteries, Powerwall, Powerpack, M...   \n",
       "3  Photovoltaic cells, Solar panels, Solar shingl...   \n",
       "4                                   Model 3, Model Y   \n",
       "5       Lithium-ion batteries, Model 3, Model Y[245]   \n",
       "6            Cybertruck, Model 3, Model Y, Semi[249]   \n",
       "\n",
       "                                               Notes  \n",
       "0                        Previously a NUMMI factory.  \n",
       "1  Tesla's first factory outside of the United St...  \n",
       "2                       Also known as Gigafactory 1.  \n",
       "3                  Also known as Gigafactory 2.[243]  \n",
       "4  Also known as Gigafactory 3. Tesla's first Gig...  \n",
       "5  Also known as Gigafactory 4. Tesla's first Gig...  \n",
       "6                       Also known as Gigafactory 5.  "
      ]
     },
     "execution_count": 27,
     "metadata": {},
     "output_type": "execute_result"
    }
   ],
   "source": [
    "# Create a Pandas DataFrame\n",
    "\n",
    "df = pd.DataFrame(table_data, columns=table_columns) \n",
    "df"
   ]
  },
  {
   "cell_type": "markdown",
   "metadata": {},
   "source": [
    "#### For persistence you can save all this hard work into a csv file using\n",
    "### df.to_csv(r'Path where you want to store the exported CSV file\\File Name.csv', index = False)"
   ]
  },
  {
   "cell_type": "code",
   "execution_count": null,
   "metadata": {},
   "outputs": [],
   "source": []
  }
 ],
 "metadata": {
  "kernelspec": {
   "display_name": "Python 3",
   "language": "python",
   "name": "python3"
  },
  "language_info": {
   "codemirror_mode": {
    "name": "ipython",
    "version": 3
   },
   "file_extension": ".py",
   "mimetype": "text/x-python",
   "name": "python",
   "nbconvert_exporter": "python",
   "pygments_lexer": "ipython3",
   "version": "3.9.1"
  },
  "pycharm": {
   "stem_cell": {
    "cell_type": "raw",
    "metadata": {
     "collapsed": false
    },
    "source": []
   }
  }
 },
 "nbformat": 4,
 "nbformat_minor": 4
}
